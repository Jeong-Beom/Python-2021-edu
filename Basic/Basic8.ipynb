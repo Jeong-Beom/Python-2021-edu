{
 "cells": [
  {
   "cell_type": "code",
   "execution_count": 16,
   "source": [
    "# elif 활용\r\n",
    "x = 20\r\n",
    "if x == 10:\r\n",
    "    print('It\\'s 10.')\r\n",
    "elif x == 20:\r\n",
    "    print('It\\'s 20.')\r\n",
    "else:\r\n",
    "    print('It isn\\'t 10, 20.')\r\n",
    "del x\r\n",
    "\r\n",
    "x = int(input()) # 순서가 바뀌면 제대로 출력안됨. 조건이 가장 까다로운 내용을 가장 먼저 조건으로 작성해야함.\r\n",
    "if x % 5 == 0 and x % 3 == 0:\r\n",
    "    print('fizzbuzz')\r\n",
    "elif x % 5 == 0:\r\n",
    "    print('buzz')\r\n",
    "elif x % 3 == 0:\r\n",
    "    print('fizz')\r\n",
    "else:\r\n",
    "    print(x)"
   ],
   "outputs": [
    {
     "output_type": "stream",
     "name": "stdout",
     "text": [
      "It's 20.\n",
      "fizzbuzz\n"
     ]
    }
   ],
   "metadata": {}
  }
 ],
 "metadata": {
  "orig_nbformat": 4,
  "language_info": {
   "name": "python",
   "version": "3.8.10",
   "mimetype": "text/x-python",
   "codemirror_mode": {
    "name": "ipython",
    "version": 3
   },
   "pygments_lexer": "ipython3",
   "nbconvert_exporter": "python",
   "file_extension": ".py"
  },
  "kernelspec": {
   "name": "python3",
   "display_name": "Python 3.8.10 64-bit ('base': conda)"
  },
  "interpreter": {
   "hash": "fe3bab233825460445dbfeea6dcd52ef5815a3fa13c858fea07ac830aa383284"
  }
 },
 "nbformat": 4,
 "nbformat_minor": 2
}