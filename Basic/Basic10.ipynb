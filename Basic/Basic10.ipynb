{
 "cells": [
  {
   "cell_type": "code",
   "execution_count": 1,
   "source": [
    "# 평행사변형 만들기\r\n",
    "'''\r\n",
    "for i in range(5):\r\n",
    "    for _ in range(i+1):\r\n",
    "        print('*', end = '')\r\n",
    "    print()\r\n",
    "\r\n",
    "for i in range(5):\r\n",
    "    for _ in range(i):\r\n",
    "        print(' ', end = '')\r\n",
    "    for _ in range(5-i):\r\n",
    "        print('*', end = '')\r\n",
    "    print()\r\n",
    "'''\r\n",
    "'''\r\n",
    "for i in range(1, 6):\r\n",
    "    print('*'*i)\r\n",
    "for i in range(5, 0, -1):\r\n",
    "    print('*'*i)\r\n",
    "'''\r\n",
    "\r\n",
    "# 별그리기\r\n",
    "for i in range(1, 10, 2):\r\n",
    "    k = int((i-1) / 2)\r\n",
    "    print(' ' * (4-k) ,'*'*i, sep = '')\r\n",
    "for i in range(7, 0, -2):\r\n",
    "    k = int((i-1) / 2)\r\n",
    "    print(' ' * (4-k), '*'*i, sep = '')\r\n"
   ],
   "outputs": [
    {
     "output_type": "stream",
     "name": "stdout",
     "text": [
      "    *\n",
      "   ***\n",
      "  *****\n",
      " *******\n",
      "*********\n",
      " *******\n",
      "  *****\n",
      "   ***\n",
      "    *\n"
     ]
    }
   ],
   "metadata": {}
  }
 ],
 "metadata": {
  "orig_nbformat": 4,
  "language_info": {
   "name": "python",
   "version": "3.8.10",
   "mimetype": "text/x-python",
   "codemirror_mode": {
    "name": "ipython",
    "version": 3
   },
   "pygments_lexer": "ipython3",
   "nbconvert_exporter": "python",
   "file_extension": ".py"
  },
  "kernelspec": {
   "name": "python3",
   "display_name": "Python 3.8.10 64-bit ('base': conda)"
  },
  "interpreter": {
   "hash": "fe3bab233825460445dbfeea6dcd52ef5815a3fa13c858fea07ac830aa383284"
  }
 },
 "nbformat": 4,
 "nbformat_minor": 2
}