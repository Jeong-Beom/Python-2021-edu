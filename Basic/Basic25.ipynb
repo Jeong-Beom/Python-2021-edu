{
 "cells": [
  {
   "cell_type": "code",
   "execution_count": 25,
   "source": [
    "# 상속(Inheritance)\r\n",
    "# 기능을 물려주는 클래스 : 기반(base class)클래스 / 상속을 받아 새롭게 만드느 클래스 : 파생(derived class)클래스\r\n",
    "'''\r\n",
    "class Person:\r\n",
    "    def greeting(self):\r\n",
    "        print('안녕하세요?')\r\n",
    "class Student(Person): # Student 클래스가 Person 클래스의 상속을 받았음.\r\n",
    "    def study(self):\r\n",
    "        print('공부하기')\r\n",
    "james = Student()\r\n",
    "james.greeting()\r\n",
    "\r\n",
    "class Person():\r\n",
    "    def __init__(self):\r\n",
    "        self.school = '파이썬'\r\n",
    "        print('Student.__init__')\r\n",
    "james = Student()\r\n",
    "'''\r\n",
    "#메서드 오버라이딩(Method Overriding)\r\n",
    "class Person:\r\n",
    "    def greeting(self):\r\n",
    "        print('안녕하세요???')\r\n",
    "class Student(Person):\r\n",
    "    def greeting(self):\r\n",
    "        print('안녕하세요? 저는 파이썬 학생입니다.')\r\n",
    "\r\n",
    "james = Student()\r\n",
    "james.greeting() # 이름이 같은 메서드는 기반클래스 메서드를 무시하고 새 메서드를 따른다\r\n"
   ],
   "outputs": [
    {
     "output_type": "stream",
     "name": "stdout",
     "text": [
      "안녕하세요? 저는 파이썬 학생입니다.\n"
     ]
    }
   ],
   "metadata": {}
  }
 ],
 "metadata": {
  "orig_nbformat": 4,
  "language_info": {
   "name": "python",
   "version": "3.8.10",
   "mimetype": "text/x-python",
   "codemirror_mode": {
    "name": "ipython",
    "version": 3
   },
   "pygments_lexer": "ipython3",
   "nbconvert_exporter": "python",
   "file_extension": ".py"
  },
  "kernelspec": {
   "name": "python3",
   "display_name": "Python 3.8.10 64-bit ('base': conda)"
  },
  "interpreter": {
   "hash": "fe3bab233825460445dbfeea6dcd52ef5815a3fa13c858fea07ac830aa383284"
  }
 },
 "nbformat": 4,
 "nbformat_minor": 2
}