{
 "cells": [
  {
   "cell_type": "code",
   "execution_count": 1,
   "source": [
    "# 추상클래스(Abstract class) - Interface / 메서드의 목록만 가진 클래스\r\n",
    "from abc import *\r\n",
    "\r\n",
    "class StudentBase(metaclass=ABCMeta):\r\n",
    "    @abstractmethod #decorator\r\n",
    "    def study(self):\r\n",
    "        pass\r\n",
    "    \r\n",
    "    @abstractmethod\r\n",
    "    def go_to_school(self):\r\n",
    "        pass\r\n",
    "\r\n",
    "class Student(StudentBase):\r\n",
    "    def study(self):\r\n",
    "        print('공부하기')\r\n",
    "\r\n",
    "# 정적메서드\r\n",
    "class Calc:\r\n",
    "    @staticmethod\r\n",
    "    def add(a,b):\r\n",
    "        print(a + b)\r\n",
    "Calc.add(10, 20)"
   ],
   "outputs": [
    {
     "output_type": "stream",
     "name": "stdout",
     "text": [
      "30\n"
     ]
    }
   ],
   "metadata": {}
  }
 ],
 "metadata": {
  "orig_nbformat": 4,
  "language_info": {
   "name": "python",
   "version": "3.8.10",
   "mimetype": "text/x-python",
   "codemirror_mode": {
    "name": "ipython",
    "version": 3
   },
   "pygments_lexer": "ipython3",
   "nbconvert_exporter": "python",
   "file_extension": ".py"
  },
  "kernelspec": {
   "name": "python3",
   "display_name": "Python 3.8.10 64-bit ('base': conda)"
  },
  "interpreter": {
   "hash": "fe3bab233825460445dbfeea6dcd52ef5815a3fa13c858fea07ac830aa383284"
  }
 },
 "nbformat": 4,
 "nbformat_minor": 2
}