{
 "cells": [
  {
   "cell_type": "code",
   "execution_count": 19,
   "source": [
    "# 파일 사용하기\r\n",
    "# open(파일이름, 파일모드) / write('문자열') / close()\r\n",
    "file = open('hello.txt', 'w')\r\n",
    "file.write('Hello, world')\r\n",
    "file.close()\r\n",
    "\r\n",
    "with open('hello.txt') as file:\r\n",
    "    s = file.read()\r\n",
    "print(s)\r\n",
    "\r\n",
    "s = '''안녕하세요\r\n",
    "파이썬\r\n",
    "코딩도장입니다.'''\r\n",
    "with open('hello.txt', 'w') as file:\r\n",
    "    file.write(s)\r\n",
    "with open('hello.txt') as file:\r\n",
    "    s = file.read()\r\n",
    "print(s)\r\n",
    "\r\n",
    "with open('hello.txt') as file:\r\n",
    "    s = file.readline() # 한줄만 읽어옴\r\n",
    "print(s)\r\n",
    "\r\n",
    "with open('hello.txt') as file:\r\n",
    "    line = None\r\n",
    "    while line != '':\r\n",
    "        line = file.readline()\r\n",
    "        print(line.strip('\\n'))\r\n",
    "\r\n",
    "with open('hello.txt', 'a') as file:\r\n",
    "    file.write('Append\\n')\r\n",
    "'''\r\n",
    "with open('chairs.jpg', 'rb') as bin:\r\n",
    "    x = bin.read(10)\r\n",
    "print(x) # r\r\n",
    "'''\r\n",
    "\r\n",
    "import pickle\r\n",
    "scores = {'kor' : 90, 'eng' : 90, 'mat' : 80}\r\n",
    "with open('binary.pkl', 'wb') as file:\r\n",
    "    pickle.dump(scores, file)\r\n",
    "\r\n",
    "with open('binary.pkl', 'rb') as file:\r\n",
    "    new_scores = pickle.load(file)\r\n",
    "new_scores"
   ],
   "outputs": [
    {
     "output_type": "stream",
     "name": "stdout",
     "text": [
      "Hello, world\n",
      "안녕하세요\n",
      "파이썬\n",
      "코딩도장입니다.\n",
      "안녕하세요\n",
      "\n",
      "안녕하세요\n",
      "파이썬\n",
      "코딩도장입니다.\n",
      "\n"
     ]
    },
    {
     "output_type": "execute_result",
     "data": {
      "text/plain": [
       "{'kor': 90, 'eng': 90, 'mat': 80}"
      ]
     },
     "metadata": {},
     "execution_count": 19
    }
   ],
   "metadata": {}
  }
 ],
 "metadata": {
  "orig_nbformat": 4,
  "language_info": {
   "name": "python",
   "version": "3.8.10",
   "mimetype": "text/x-python",
   "codemirror_mode": {
    "name": "ipython",
    "version": 3
   },
   "pygments_lexer": "ipython3",
   "nbconvert_exporter": "python",
   "file_extension": ".py"
  },
  "kernelspec": {
   "name": "python3",
   "display_name": "Python 3.8.10 64-bit ('base': conda)"
  },
  "interpreter": {
   "hash": "fe3bab233825460445dbfeea6dcd52ef5815a3fa13c858fea07ac830aa383284"
  }
 },
 "nbformat": 4,
 "nbformat_minor": 2
}