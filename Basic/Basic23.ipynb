{
 "cells": [
  {
   "cell_type": "code",
   "execution_count": 35,
   "source": [
    "class Account:\r\n",
    "    def __init__(self, ano, owner, balance):\r\n",
    "        self.ano = ano\r\n",
    "        self.owner = owner\r\n",
    "        self.__balance = balance\r\n",
    "\r\n",
    "    def deposit(self, amount):\r\n",
    "        if amount + self.__balance >= 10000000:\r\n",
    "            print(f'현재 잔액이 {self.__balance}이므로 입금이 불가능합니다.')\r\n",
    "            return\r\n",
    "        self.__balance += amount        \r\n",
    "\r\n",
    "    def withdraw(self, amount):\r\n",
    "        if self.__balance - amount < 0:\r\n",
    "            print(f'현재 잔액이 {self.__balance}이므로 출금이 불가능합니다.')\r\n",
    "            return\r\n",
    "        self.__balance -= amount\r\n",
    "\r\n",
    "    def __str__(self):\r\n",
    "        return f'계좌번호 : {self.ano}, 소유주 : {self.owner}, 잔액 : {self.__balance:9,d}'\r\n",
    "\r\n",
    "acc = Account('123456', 'james', 100000)\r\n",
    "print(acc)\r\n",
    "acc.deposit(3000000)\r\n",
    "print(acc)\r\n",
    "acc.withdraw(2000000)\r\n",
    "print(acc)\r\n",
    "acc.withdraw(2000000)\r\n",
    "print(acc)\r\n",
    "acc2 = Account('987432', '마리아', 3000000)\r\n",
    "print(acc2)\r\n",
    "acc_list = [acc, acc2]\r\n",
    "for account in acc_list:\r\n",
    "    print(account)\r\n"
   ],
   "outputs": [
    {
     "output_type": "stream",
     "name": "stdout",
     "text": [
      "계좌번호 : 123456, 소유주 : james, 잔액 :   100,000\n",
      "계좌번호 : 123456, 소유주 : james, 잔액 : 3,100,000\n",
      "계좌번호 : 123456, 소유주 : james, 잔액 : 1,100,000\n",
      "현재 잔액이 1100000이므로 출금이 불가능합니다.\n",
      "계좌번호 : 123456, 소유주 : james, 잔액 : 1,100,000\n",
      "계좌번호 : 987432, 소유주 : 마리아, 잔액 : 3,000,000\n",
      "계좌번호 : 123456, 소유주 : james, 잔액 : 1,100,000\n",
      "계좌번호 : 987432, 소유주 : 마리아, 잔액 : 3,000,000\n"
     ]
    }
   ],
   "metadata": {}
  }
 ],
 "metadata": {
  "orig_nbformat": 4,
  "language_info": {
   "name": "python",
   "version": "3.8.10",
   "mimetype": "text/x-python",
   "codemirror_mode": {
    "name": "ipython",
    "version": 3
   },
   "pygments_lexer": "ipython3",
   "nbconvert_exporter": "python",
   "file_extension": ".py"
  },
  "kernelspec": {
   "name": "python3",
   "display_name": "Python 3.8.10 64-bit ('base': conda)"
  },
  "interpreter": {
   "hash": "fe3bab233825460445dbfeea6dcd52ef5815a3fa13c858fea07ac830aa383284"
  }
 },
 "nbformat": 4,
 "nbformat_minor": 2
}