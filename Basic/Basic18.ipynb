{
 "cells": [
  {
   "cell_type": "code",
   "execution_count": 22,
   "source": [
    "# 위치 인수와 키워드 인수\r\n",
    "def print_number(a, b, c):\r\n",
    "    print(a)\r\n",
    "    print(b)\r\n",
    "    print(c)\r\n",
    "# *x - 리스트 언팩킹 / *y - 튜플 언팩킹\r\n",
    "x, y = [10, 20, 30], (40, 50, 60)\r\n",
    "print_number(*x)\r\n",
    "print_number(*y)\r\n",
    "def print_numbers(*args): # 가변인수를 활용한 함수 만들기\r\n",
    "    for arg in args:\r\n",
    "        print(arg)\r\n",
    "def print_numbers2(a, *args):\r\n",
    "    print(a)\r\n",
    "    print(args)\r\n",
    "print_numbers2(1, 10, 20) # a는 고정인수 / 고정인수는 가변인수보다 반드시 앞에 와야함\r\n",
    "print_numbers2(*x)\r\n",
    "\r\n",
    "# 키워드 인수\r\n",
    "def personal_info(name, age, addr):\r\n",
    "    print('이름 : ', name)\r\n",
    "    print('나이 : ', age)\r\n",
    "    print('주소 : ', addr)\r\n",
    "personal_info('홍길동', 30, '서울 강남구 도곡동')\r\n",
    "x = {'name' : '홍길동', 'age' : 30, 'addr' : '서울 강남구 도곡동'}\r\n",
    "personal_info(**x) # 딕셔너리 언팩킹은 **\r\n",
    "\r\n",
    "# 가변 키워드인수\r\n",
    "def personal_info2(**kwargs):\r\n",
    "    for key, value in kwargs.items():\r\n",
    "        print(f'{key}: {value}')\r\n",
    "personal_info(**x)\r\n",
    "\r\n",
    "# 고정인수와 가변 키워드 인수\r\n",
    "def personal_info3(name, **kwargs):\r\n",
    "    print(name)\r\n",
    "    print(kwargs)\r\n",
    "personal_info3(**x)\r\n",
    "\r\n",
    "def my_print(*args, **kwargs): # 위치인수가 먼저오고 키워드 인수가 다음으로 와야함 / 고정위치, 가변위치, 고정키워드, 가변키워드\r\n",
    "    print(args, kwargs)\r\n",
    "my_print(10, 20, 30, sep = ', ')"
   ],
   "outputs": [
    {
     "output_type": "stream",
     "name": "stdout",
     "text": [
      "10\n",
      "20\n",
      "30\n",
      "40\n",
      "50\n",
      "60\n",
      "1\n",
      "(10, 20)\n",
      "10\n",
      "(20, 30)\n",
      "이름 :  홍길동\n",
      "나이 :  30\n",
      "주소 :  서울 강남구 도곡동\n",
      "이름 :  홍길동\n",
      "나이 :  30\n",
      "주소 :  서울 강남구 도곡동\n",
      "이름 :  홍길동\n",
      "나이 :  30\n",
      "주소 :  서울 강남구 도곡동\n",
      "홍길동\n",
      "{'age': 30, 'addr': '서울 강남구 도곡동'}\n",
      "(10, 20, 30) {'sep': ', '}\n"
     ]
    }
   ],
   "metadata": {}
  }
 ],
 "metadata": {
  "orig_nbformat": 4,
  "language_info": {
   "name": "python",
   "version": "3.8.10",
   "mimetype": "text/x-python",
   "codemirror_mode": {
    "name": "ipython",
    "version": 3
   },
   "pygments_lexer": "ipython3",
   "nbconvert_exporter": "python",
   "file_extension": ".py"
  },
  "kernelspec": {
   "name": "python3",
   "display_name": "Python 3.8.10 64-bit ('base': conda)"
  },
  "interpreter": {
   "hash": "fe3bab233825460445dbfeea6dcd52ef5815a3fa13c858fea07ac830aa383284"
  }
 },
 "nbformat": 4,
 "nbformat_minor": 2
}