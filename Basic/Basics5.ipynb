{
 "cells": [
  {
   "cell_type": "code",
   "execution_count": 22,
   "source": [
    "#시퀀스객체 : 리스트, 튜플, 레인지, 문자형 자료형\r\n",
    "#시퀀스객체에서 특정값이 있는지 확인하기\r\n",
    "x = list(range(5))\r\n",
    "print(x)\r\n",
    "5 in x #시퀀스 객체는 + 연산자로 연결가능(range는 불가능 : 해당자료형을 리스트로 변경해서 가능)\r\n",
    "list(range(5)) + list(range(5,10,1))\r\n",
    "#문자열 + 정수 *java에서는 가능하나 파이썬에서는 불가능\r\n",
    "del x\r\n",
    "\r\n",
    "x = ('string', 17)\r\n",
    "print(x[0],x[1], type(x[0]), type(x[1]))\r\n",
    "del x\r\n",
    "\r\n",
    "pi = 3.14\r\n",
    "print(f'Number{5} : {pi}') #파이썬 버전 3.6부터는 Formatted String 사용가능 / 결과값 : Number5 : 3.14\r\n",
    "#!python --version\r\n",
    "\r\n",
    "#인덱스 활용하기 / 튜플은 값변경불가\r\n",
    "x = list(range(10))\r\n",
    "print(x)\r\n",
    "x[2] = 100\r\n",
    "print(x) \r\n",
    "del x[2]\r\n",
    "print(x)\r\n",
    "print(x[3:6]) #시작하는 수는 포함, 끝나는 수는 미포함\r\n",
    "print(x[::2]) #[시작하는수:끝나는 수:증가분] / 미작성시 [첫번째 변수:마지막 변수:1]로 적용\r\n",
    "#행렬도 해당방식으로 원하는 변수 산출 및 출력가능 / 예시 : a[:2,1:3]"
   ],
   "outputs": [
    {
     "output_type": "stream",
     "name": "stdout",
     "text": [
      "[0, 1, 2, 3, 4]\n",
      "string 17 <class 'str'> <class 'int'>\n",
      "Number5 : 3.14\n",
      "[0, 1, 2, 3, 4, 5, 6, 7, 8, 9]\n",
      "[0, 1, 100, 3, 4, 5, 6, 7, 8, 9]\n",
      "[0, 1, 3, 4, 5, 6, 7, 8, 9]\n",
      "[4, 5, 6]\n",
      "[0, 3, 5, 7, 9]\n"
     ]
    },
    {
     "output_type": "execute_result",
     "data": {
      "text/plain": [
       "10"
      ]
     },
     "metadata": {},
     "execution_count": 22
    }
   ],
   "metadata": {}
  }
 ],
 "metadata": {
  "orig_nbformat": 4,
  "language_info": {
   "name": "python",
   "version": "3.8.10",
   "mimetype": "text/x-python",
   "codemirror_mode": {
    "name": "ipython",
    "version": 3
   },
   "pygments_lexer": "ipython3",
   "nbconvert_exporter": "python",
   "file_extension": ".py"
  },
  "kernelspec": {
   "name": "python3",
   "display_name": "Python 3.8.10 64-bit ('base': conda)"
  },
  "interpreter": {
   "hash": "fe3bab233825460445dbfeea6dcd52ef5815a3fa13c858fea07ac830aa383284"
  }
 },
 "nbformat": 4,
 "nbformat_minor": 2
}