{
 "cells": [
  {
   "cell_type": "code",
   "execution_count": 94,
   "source": [
    "# (파이썬 코딩도장) Unit 15. elif를 사용하여 여러방향으로 분기하기\r\n",
    "'''age = int(input())\r\n",
    "balance = 9000 # 교통카드 잔액\r\n",
    "if age >= 19:\r\n",
    "    print(balance - 1250)\r\n",
    "elif 13 <= age < 19:\r\n",
    "    print(balance - 1050)\r\n",
    "elif 7 <= age < 13:\r\n",
    "    print(balance - 650)    \r\n",
    "else:\r\n",
    "    print(balance)'''\r\n",
    "\r\n",
    "# 교육시간 내 추가문제\r\n",
    "'''from datetime import date\r\n",
    "today = date.today()\r\n",
    "today.year, today.month, today.day'''\r\n",
    "'''\r\n",
    "age = list(map(int, (input().split())))\r\n",
    "today = date.today()\r\n",
    "today_list = [today.year, today.month, today.day]\r\n",
    "year = today_list[0] - age[0]\r\n",
    "if today_list[1] - age[1] > 0:\r\n",
    "    my_age = year\r\n",
    "elif today_list[1] - age[1] == 0:\r\n",
    "    if today_list[2] - age[2] >= 0:\r\n",
    "        my_age = year\r\n",
    "    else:\r\n",
    "        my_age = year - 1\r\n",
    "else:\r\n",
    "    my_age = year - 1\r\n",
    "print(my_age)\r\n",
    "'''\r\n",
    "\r\n",
    "# (파이썬 코딩도장) Unit 16. for 반복문\r\n",
    "'''\r\n",
    "num = int(input())\r\n",
    "for i in range(1,10,1):\r\n",
    "    print(num, '*', i, '=', num * i, sep = ' ')\r\n",
    "'''\r\n",
    "# (파이썬 코딩도장) Unit 17. while 반복문\r\n",
    "'''\r\n",
    "money = int(input())\r\n",
    "while money >= 0:\r\n",
    "    money -= 1350\r\n",
    "    if money >= 0:\r\n",
    "        print(money)\r\n",
    "'''\r\n",
    "# (파이썬 코딩도장) Unit 18. break 및 continue로 반복문 제어하기\r\n",
    "'''\r\n",
    "start, stop = map(int, input().split())\r\n",
    "i = start\r\n",
    "while True:\r\n",
    "    if stop - i < 0:\r\n",
    "        break\r\n",
    "    k = i - 3\r\n",
    "    if i == 3 or (i-3) % 10 == 0:\r\n",
    "        i += 1\r\n",
    "        continue\r\n",
    "    print(i, end = ' ')\r\n",
    "    i += 1\r\n",
    "'''\r\n",
    "\r\n",
    "# (파이썬 코딩도장) Unit 19. 계단식으로 별 출력하기\r\n",
    "'''\r\n",
    "num = int(input())\r\n",
    "for i in range(num):\r\n",
    "    print(' '*(4-i), '*'*(2*i+1), sep = '')\r\n",
    "'''\r\n"
   ],
   "outputs": [
    {
     "output_type": "stream",
     "name": "stdout",
     "text": [
      "    *\n",
      "   ***\n",
      "  *****\n",
      " *******\n",
      "*********\n"
     ]
    }
   ],
   "metadata": {}
  }
 ],
 "metadata": {
  "orig_nbformat": 4,
  "language_info": {
   "name": "python",
   "version": "3.8.10",
   "mimetype": "text/x-python",
   "codemirror_mode": {
    "name": "ipython",
    "version": 3
   },
   "pygments_lexer": "ipython3",
   "nbconvert_exporter": "python",
   "file_extension": ".py"
  },
  "kernelspec": {
   "name": "python3",
   "display_name": "Python 3.8.10 64-bit ('base': conda)"
  },
  "interpreter": {
   "hash": "fe3bab233825460445dbfeea6dcd52ef5815a3fa13c858fea07ac830aa383284"
  }
 },
 "nbformat": 4,
 "nbformat_minor": 2
}