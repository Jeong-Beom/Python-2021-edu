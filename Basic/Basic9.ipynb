{
 "cells": [
  {
   "cell_type": "code",
   "execution_count": 13,
   "source": [
    "# 반복문\r\n",
    "'''for i in range(3): \r\n",
    "    print('Hello, world!')\r\n",
    "\r\n",
    "for _ in range(2):\r\n",
    "    print('1')'''\r\n",
    "\r\n",
    "'''for i in range(1,101):\r\n",
    "    print('Fizz'*(i%3==0) + 'Buzz'*(i%5==0) or i, end = ' ')\r\n",
    "    if i % 10 == 0:\r\n",
    "        print()'''\r\n",
    "    \r\n",
    "'''for letter in 'Python':\r\n",
    "    print(letter, end = ' ')\r\n",
    "\r\n",
    "for letter in reversed('Python'): # 순서를 역순으로 변경 : reversed 함수\r\n",
    "    print(letter, end = ' ')'''\r\n",
    "\r\n",
    "# 자기자신을 제외한 약수의 합이 자기자신과 같을 수(퍼펙트 넘버)\r\n",
    "'''for i in range(2, 10001):\r\n",
    "    sum = 0\r\n",
    "    for k in range(1, i):\r\n",
    "        if i % k == 0:\r\n",
    "            # print(f'{k}는 {i}의 약수')\r\n",
    "            sum += k\r\n",
    "    if i == sum:\r\n",
    "        print(i)'''\r\n",
    "\r\n",
    "# while 반복문(횟수를 지정하지 않는 것) / 주로 반복횟수가 정해지지 않았을 때 사용\r\n",
    "'''while 조건:\r\n",
    "    조건이 참인 동안 loop를 반복 / 반드시 조건을 변경하는 변화식이 있어야함(무한루프 방지)'''\r\n",
    "import random\r\n",
    "random.random()\r\n",
    "random.randint(1,6) # 변수형과 시작하는 수, 끝나는 수를 지정\r\n",
    "\r\n",
    "'''i = 0\r\n",
    "while i != 3:\r\n",
    "    i = random.randint(1,6)\r\n",
    "    print(i)'''\r\n",
    "\r\n",
    "'''i = 0\r\n",
    "dice = list(range(7))\r\n",
    "while i != 3:\r\n",
    "    i = random.choice(dice)\r\n",
    "    print(i)'''\r\n",
    "\r\n",
    "# while 조건이 True면 무한루프 / 무한루프를 끝내는방법(break, continue)\r\n",
    "'''while True: # 36 ~ 39의 수식과 동일\r\n",
    "    i = random.randint(1,6)\r\n",
    "    print(i)\r\n",
    "    if i == 3:\r\n",
    "        break # 보통 break는 for문이 아닌 while문에 주로 사용\r\n",
    "'''\r\n",
    "\r\n",
    "'''for i in range(5):\r\n",
    "    print(i, end = ' ')\r\n",
    "    for k in range(5):\r\n",
    "        print('*', end = ' ')\r\n",
    "        if i==k:\r\n",
    "            break\r\n",
    "    print()\r\n",
    "'''\r\n",
    "\r\n",
    "for i in range(10):\r\n",
    "    if i % 2 == 0:\r\n",
    "        continue\r\n",
    "    print(i)"
   ],
   "outputs": [
    {
     "output_type": "stream",
     "name": "stdout",
     "text": [
      "1\n",
      "3\n",
      "5\n",
      "7\n",
      "9\n"
     ]
    }
   ],
   "metadata": {}
  }
 ],
 "metadata": {
  "orig_nbformat": 4,
  "language_info": {
   "name": "python",
   "version": "3.8.10",
   "mimetype": "text/x-python",
   "codemirror_mode": {
    "name": "ipython",
    "version": 3
   },
   "pygments_lexer": "ipython3",
   "nbconvert_exporter": "python",
   "file_extension": ".py"
  },
  "kernelspec": {
   "name": "python3",
   "display_name": "Python 3.8.10 64-bit ('base': conda)"
  },
  "interpreter": {
   "hash": "fe3bab233825460445dbfeea6dcd52ef5815a3fa13c858fea07ac830aa383284"
  }
 },
 "nbformat": 4,
 "nbformat_minor": 2
}