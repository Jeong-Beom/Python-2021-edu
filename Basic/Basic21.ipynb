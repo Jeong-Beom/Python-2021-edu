{
 "cells": [
  {
   "cell_type": "code",
   "execution_count": 4,
   "source": [
    "# 변수의 사용범위(Scope Rule)\r\n",
    "x = 10 # 전역(global) 변수 / 함수바깥에서 사용되는 변수\r\n",
    "'''\r\n",
    "def foo():\r\n",
    "    print(x)\r\n",
    "\r\n",
    "foo()\r\n",
    "print(x)\r\n",
    "'''\r\n",
    "def foo():\r\n",
    "    y = 10 # 지역(local)변수\r\n",
    "    print(y)\r\n",
    "foo()\r\n",
    "# 지역변수는 프로그램 바깥에서 사용불가\r\n",
    "x = 10\r\n",
    "def foo():\r\n",
    "    global x # 해당변수를 글로벌 변수로 선언\r\n",
    "    x = 20\r\n",
    "    print(x)\r\n",
    "\r\n",
    "foo()\r\n",
    "print(x)"
   ],
   "outputs": [
    {
     "output_type": "stream",
     "name": "stdout",
     "text": [
      "10\n",
      "20\n",
      "20\n"
     ]
    }
   ],
   "metadata": {}
  }
 ],
 "metadata": {
  "orig_nbformat": 4,
  "language_info": {
   "name": "python",
   "version": "3.8.10",
   "mimetype": "text/x-python",
   "codemirror_mode": {
    "name": "ipython",
    "version": 3
   },
   "pygments_lexer": "ipython3",
   "nbconvert_exporter": "python",
   "file_extension": ".py"
  },
  "kernelspec": {
   "name": "python3",
   "display_name": "Python 3.8.10 64-bit ('base': conda)"
  },
  "interpreter": {
   "hash": "fe3bab233825460445dbfeea6dcd52ef5815a3fa13c858fea07ac830aa383284"
  }
 },
 "nbformat": 4,
 "nbformat_minor": 2
}