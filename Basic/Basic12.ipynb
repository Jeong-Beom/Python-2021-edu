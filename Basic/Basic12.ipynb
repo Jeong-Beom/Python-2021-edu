{
 "cells": [
  {
   "cell_type": "code",
   "execution_count": 25,
   "source": [
    "# 2차원 리스트\r\n",
    "# 엑셀표와 같은 형태로 되어있는 데이터\r\n",
    "# numpy의 array와 pandas의 data frame을 주로 사용할 예정\r\n",
    "a = [[10, 20], [30, 40], [50, 60]] # 가로 2, 세로 3의 2차원 리스트 생성\r\n",
    "a[1][0] # a[행인덱스][열인덱스]\r\n",
    "a[1][-1]\r\n",
    "del a\r\n",
    "\r\n",
    "import numpy as np\r\n",
    "b = np.arange(16).reshape(4,4) # numpy를 활용한 2차원 리스트 생성하기\r\n",
    "b # 0 ~ 15 까지의 수를 요소로하는 2차원 리스트 작성하기(4개의 수를 4개의 집단으로 묶기)\r\n",
    "b[1:-1, 1:-1]\r\n",
    "\r\n",
    "a = []\r\n",
    "for i in range(4):\r\n",
    "    t = []\r\n",
    "    for k in range(4):\r\n",
    "        t.append(i*4 + k)\r\n",
    "    a.append(t)\r\n",
    "\r\n",
    "from pprint import pprint\r\n",
    "pprint(a, indent = 4, width = 30)\r\n",
    "for row in a:\r\n",
    "    for element in row:\r\n",
    "        print(f'{element} ', end = '')\r\n",
    "    print()\r\n",
    "\r\n",
    "for w, x, y, z in a: # list unpacking\r\n",
    "    print(w, x, y, z)\r\n",
    "\r\n",
    "a = [[10, 20], [30, 40]]\r\n",
    "b = a \r\n",
    "'''b[0][0] = 500\r\n",
    "a # 주소만 할당하고 실제 객체는 동일한 것이기에 b를 수정해도 a가 같이 수정됨'''\r\n",
    "\r\n",
    "import copy\r\n",
    "b = copy.deepcopy(a) # 2차원 리스트이기에 copy함수 중 deepcopy를 활용\r\n",
    "b[0][0] = 500\r\n",
    "print(a,b)"
   ],
   "outputs": [
    {
     "output_type": "stream",
     "name": "stdout",
     "text": [
      "[   [0, 1, 2, 3],\n",
      "    [4, 5, 6, 7],\n",
      "    [8, 9, 10, 11],\n",
      "    [12, 13, 14, 15]]\n",
      "0 1 2 3 \n",
      "4 5 6 7 \n",
      "8 9 10 11 \n",
      "12 13 14 15 \n",
      "0 1 2 3\n",
      "4 5 6 7\n",
      "8 9 10 11\n",
      "12 13 14 15\n",
      "[[10, 20], [30, 40]] [[500, 20], [30, 40]]\n"
     ]
    }
   ],
   "metadata": {}
  }
 ],
 "metadata": {
  "orig_nbformat": 4,
  "language_info": {
   "name": "python",
   "version": "3.8.10",
   "mimetype": "text/x-python",
   "codemirror_mode": {
    "name": "ipython",
    "version": 3
   },
   "pygments_lexer": "ipython3",
   "nbconvert_exporter": "python",
   "file_extension": ".py"
  },
  "kernelspec": {
   "name": "python3",
   "display_name": "Python 3.8.10 64-bit ('base': conda)"
  },
  "interpreter": {
   "hash": "fe3bab233825460445dbfeea6dcd52ef5815a3fa13c858fea07ac830aa383284"
  }
 },
 "nbformat": 4,
 "nbformat_minor": 2
}