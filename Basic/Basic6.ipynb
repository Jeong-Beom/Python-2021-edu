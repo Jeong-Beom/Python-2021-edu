{
 "cells": [
  {
   "cell_type": "code",
   "execution_count": 26,
   "source": [
    "lux = {\r\n",
    "    'health' : 450,\r\n",
    "    'mana' : 800,\r\n",
    "    'str' : 89\r\n",
    "}\r\n",
    "print(lux)\r\n",
    "lux['etc'] = 88 #딕셔너리에 값추가\r\n",
    "print(lux)\r\n",
    "lux['health'] = 880 #딕셔너리에 값변경\r\n",
    "print(lux)\r\n",
    "\r\n",
    "e = {\r\n",
    "    'mana' : 55\r\n",
    "}\r\n",
    "if 'mana' in e:\r\n",
    "    e['mana'] = e['mana'] + 100\r\n",
    "else:\r\n",
    "    e['mana'] = 50\r\n",
    "print(lux, len(lux), type(lux['mana']))\r\n",
    "\r\n",
    "lux.keys() #요소들의 이름목록 확인\r\n",
    "\r\n",
    "d = {'mana' : 120}\r\n",
    "e = {}\r\n",
    "for item in [d, e]:\r\n",
    "    if 'mana' in item:\r\n",
    "        item['mana'] += 100\r\n",
    "    else:\r\n",
    "        item['mana'] = 50\r\n",
    "print(d,e)"
   ],
   "outputs": [
    {
     "output_type": "stream",
     "name": "stdout",
     "text": [
      "{'health': 450, 'mana': 800, 'str': 89}\n",
      "{'health': 450, 'mana': 800, 'str': 89, 'etc': 88}\n",
      "{'health': 880, 'mana': 800, 'str': 89, 'etc': 88}\n",
      "{'health': 880, 'mana': 800, 'str': 89, 'etc': 88} 4 <class 'int'>\n",
      "{'mana': 220} {'mana': 50}\n"
     ]
    }
   ],
   "metadata": {}
  }
 ],
 "metadata": {
  "orig_nbformat": 4,
  "language_info": {
   "name": "python",
   "version": "3.8.10",
   "mimetype": "text/x-python",
   "codemirror_mode": {
    "name": "ipython",
    "version": 3
   },
   "pygments_lexer": "ipython3",
   "nbconvert_exporter": "python",
   "file_extension": ".py"
  },
  "kernelspec": {
   "name": "python3",
   "display_name": "Python 3.8.10 64-bit ('base': conda)"
  },
  "interpreter": {
   "hash": "fe3bab233825460445dbfeea6dcd52ef5815a3fa13c858fea07ac830aa383284"
  }
 },
 "nbformat": 4,
 "nbformat_minor": 2
}