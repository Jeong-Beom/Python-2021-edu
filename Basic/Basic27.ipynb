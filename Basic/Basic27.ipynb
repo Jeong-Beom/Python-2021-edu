{
 "cells": [
  {
   "cell_type": "code",
   "execution_count": 4,
   "source": [
    "'''\r\n",
    "class Annie :\r\n",
    "    def __init__(self, health, mana, ability_power):\r\n",
    "        self.health = health\r\n",
    "        self.mana = mana\r\n",
    "        self.ability_power = ability_power\r\n",
    "\r\n",
    "    def tibbers(self):\r\n",
    "        val = self.ability_power * 0.65 + 400\r\n",
    "        print(f'티버피해량 : {val}')\r\n",
    "'''\r\n",
    "\r\n",
    "# 예외처리 사용하기 : try except\r\n",
    "a = [1,2,3]\r\n",
    "try:\r\n",
    "    a[4]\r\n",
    "except:\r\n",
    "    print('예외발생')\r\n",
    "# except (이름): (이름)을 활용해서 특정 내용과 관련된 예외처리를 설정할 수 있음.\r\n",
    "# 예외 발생시키기\r\n",
    "import random\r\n",
    "try:\r\n",
    "    x = random.randint(1,10)\r\n",
    "    print(x)\r\n",
    "    if x % 3 != 0:\r\n",
    "        raise Exception('3의 배수가 아닙니다.')\r\n",
    "except Exception as e:\r\n",
    "    print('예외발생 - ', e)\r\n",
    "\r\n",
    "def multiple11(x):\r\n",
    "    if x % 11 != 0:\r\n",
    "        raise Exception('11의 배수가 아닙니다.')\r\n",
    "    print(x)\r\n",
    "\r\n",
    "try:\r\n",
    "    multiple11(100)\r\n",
    "except Exception as e:\r\n",
    "    print('예외 발생 - ', e)\r\n",
    "\r\n",
    "# Exception 객체를 상속받아 객체를 만들면 됨"
   ],
   "outputs": [
    {
     "output_type": "stream",
     "name": "stdout",
     "text": [
      "예외발생\n",
      "7\n",
      "예외발생 -  3의 배수가 아닙니다.\n",
      "예외 발생 -  11의 배수가 아닙니다.\n"
     ]
    }
   ],
   "metadata": {}
  }
 ],
 "metadata": {
  "orig_nbformat": 4,
  "language_info": {
   "name": "python",
   "version": "3.8.10",
   "mimetype": "text/x-python",
   "codemirror_mode": {
    "name": "ipython",
    "version": 3
   },
   "pygments_lexer": "ipython3",
   "nbconvert_exporter": "python",
   "file_extension": ".py"
  },
  "kernelspec": {
   "name": "python3",
   "display_name": "Python 3.8.10 64-bit ('base': conda)"
  },
  "interpreter": {
   "hash": "fe3bab233825460445dbfeea6dcd52ef5815a3fa13c858fea07ac830aa383284"
  }
 },
 "nbformat": 4,
 "nbformat_minor": 2
}