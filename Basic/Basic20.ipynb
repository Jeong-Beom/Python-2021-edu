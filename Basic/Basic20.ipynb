{
 "cells": [
  {
   "cell_type": "code",
   "execution_count": 15,
   "source": [
    "# 람다 표현식\r\n",
    "def plus_ten(x):\r\n",
    "    return x+10\r\n",
    "\r\n",
    "plus_ten(5)\r\n",
    "\r\n",
    "plus_ten2 = lambda x: x +10\r\n",
    "plus_ten2(5)\r\n",
    "(lambda x: x+10)(5)\r\n",
    "\r\n",
    "# list(map(lambda x: int(x)+10, input().split()))\r\n",
    "'''\r\n",
    "def plus_ten(x):\r\n",
    "    return int(x)+10\r\n",
    "list(map(plus_ten, input().split())) \r\n",
    "'''\r\n",
    "# 람다함수에서 변수를 만들 수 없음\r\n",
    "# (lambda x: y = 10; x+y)(3) : error\r\n",
    "# 미리 해당변수를 선언 및 값할당을 해놓을 시에는 가능\r\n",
    "\r\n",
    "a = list(range(1, 11))\r\n",
    "list(map(lambda x: str(x) if x % 3 == 0 else x, a))\r\n",
    "# 리스트 a에서 3의 배수는 문자열로, 5의 배수는 실수로 변환\r\n",
    "list(map(lambda x: str(x) if x % 3 == 0 else float(x) if x % 5 ==0 else x, a))\r\n",
    "\r\n",
    "a = list(range(1, 11))\r\n",
    "list(filter(lambda x : 4 <= x < 8, a))"
   ],
   "outputs": [
    {
     "output_type": "execute_result",
     "data": {
      "text/plain": [
       "[4, 5, 6, 7]"
      ]
     },
     "metadata": {},
     "execution_count": 15
    }
   ],
   "metadata": {}
  }
 ],
 "metadata": {
  "orig_nbformat": 4,
  "language_info": {
   "name": "python",
   "version": "3.8.10",
   "mimetype": "text/x-python",
   "codemirror_mode": {
    "name": "ipython",
    "version": 3
   },
   "pygments_lexer": "ipython3",
   "nbconvert_exporter": "python",
   "file_extension": ".py"
  },
  "kernelspec": {
   "name": "python3",
   "display_name": "Python 3.8.10 64-bit ('base': conda)"
  },
  "interpreter": {
   "hash": "fe3bab233825460445dbfeea6dcd52ef5815a3fa13c858fea07ac830aa383284"
  }
 },
 "nbformat": 4,
 "nbformat_minor": 2
}