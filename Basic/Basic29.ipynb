{
 "cells": [
  {
   "cell_type": "code",
   "execution_count": 28,
   "source": [
    "# 모듈과 패키지\r\n",
    "import math\r\n",
    "math.pi\r\n",
    "math.sqrt(2), math.log2(2), math.sin(math.pi/2)\r\n",
    "\r\n",
    "import math as m\r\n",
    "round(m.pi, 4), m.log2(2), m.sqrt(2)\r\n",
    "\r\n",
    "# from을 통해서 함수, 클래스, 전역변수 등을 가져올 수 있음\r\n",
    "from math import sqrt, pi\r\n",
    "round(pi, 4), round(sqrt(2), 4)\r\n",
    "\r\n",
    "from math import *\r\n",
    "log2(2), sin(pi/2)\r\n",
    "\r\n",
    "# import 패키지\r\n",
    "import urllib.request\r\n",
    "res = urllib.request.urlopen('https://www.google.co.kr')\r\n",
    "res.status # 200은 문제없이 코드를 실행했다는 뜻\r\n",
    "from urllib.request import urlopen\r\n",
    "res = urlopen('https://www.google.co.kr')\r\n",
    "res.status\r\n",
    "\r\n",
    "# Scikit-Learn 패키지\r\n",
    "from sklearn.model_selection import train_test_split, GridSearchCV\r\n",
    "# 가상환경(Virtual environment)\r\n",
    "# 프로젝트 : Python 3.7, numpy, pandas, matpltlib \r\n",
    "# 경진대회 : Python 3.6, 라이브러리 numpy\r\n",
    "# 기본환경 : Python 3.8, 다양한 라이브러리 numpy --- base\r\n",
    "# 가상환경을 만들어주는 프로그램 - virtuallenv, Anaconda\r\n",
    "# conda라는 명령으로 가상환경을 만들 수 있음\r\n",
    "# KoNLPy 패키기 : Korean Natural Language Processing Python(pip로만 설치가능 / conda로는 설치 불가능)\r\n",
    "\r\n",
    "import Module_Practice1 as sq\r\n",
    "print(sq.base)\r\n",
    "print(sq.square(10))\r\n",
    "\r\n",
    "from Module_Practice2 import Person\r\n",
    "maria = Person('마리아', 25, '서울시 강남구 도곡동')\r\n",
    "maria.greeting()"
   ],
   "outputs": [
    {
     "output_type": "stream",
     "name": "stdout",
     "text": [
      "2\n",
      "1024\n",
      "안녕하세요. 저는 마리아입니다.\n"
     ]
    }
   ],
   "metadata": {}
  }
 ],
 "metadata": {
  "orig_nbformat": 4,
  "language_info": {
   "name": "python",
   "version": "3.8.10",
   "mimetype": "text/x-python",
   "codemirror_mode": {
    "name": "ipython",
    "version": 3
   },
   "pygments_lexer": "ipython3",
   "nbconvert_exporter": "python",
   "file_extension": ".py"
  },
  "kernelspec": {
   "name": "python3",
   "display_name": "Python 3.8.10 64-bit ('base': conda)"
  },
  "interpreter": {
   "hash": "fe3bab233825460445dbfeea6dcd52ef5815a3fa13c858fea07ac830aa383284"
  }
 },
 "nbformat": 4,
 "nbformat_minor": 2
}