{
 "cells": [
  {
   "cell_type": "code",
   "execution_count": 11,
   "source": [
    "# 딕셔너리에서 키-값 쌍을 모두 가져오기\r\n",
    "# items : 키-값 쌍을 모두 가져옴 / keys : 키를 모두가져옴 / values : 값을 모두 가져옴\r\n",
    "\r\n",
    "x = {'a' : 10, 'b' : 20, 'c' : 30, 'd' : 40}\r\n",
    "print(x.items(), x.keys(), x.values(), sep = '\\n')\r\n",
    "\r\n",
    "dict(zip(x.values(), x.keys())) # ZIP함수로 새로운 딕셔너리를 생성하는법\r\n",
    "\r\n",
    "for key, value in x.items():\r\n",
    "    print(f'{key}:{value}')\r\n",
    "\r\n",
    "for key in x.keys():\r\n",
    "    print(f'{key}:{x[key]}')\r\n",
    "\r\n",
    "for i, (k, v) in enumerate(x.items()):\r\n",
    "    print(i, k ,v)\r\n",
    "\r\n"
   ],
   "outputs": [
    {
     "output_type": "stream",
     "name": "stdout",
     "text": [
      "dict_items([('a', 10), ('b', 20), ('c', 30), ('d', 40)])\n",
      "dict_keys(['a', 'b', 'c', 'd'])\n",
      "dict_values([10, 20, 30, 40])\n",
      "a:10\n",
      "b:20\n",
      "c:30\n",
      "d:40\n",
      "a:10\n",
      "b:20\n",
      "c:30\n",
      "d:40\n",
      "0 a 10\n",
      "1 b 20\n",
      "2 c 30\n",
      "3 d 40\n"
     ]
    }
   ],
   "metadata": {}
  }
 ],
 "metadata": {
  "orig_nbformat": 4,
  "language_info": {
   "name": "python",
   "version": "3.8.10",
   "mimetype": "text/x-python",
   "codemirror_mode": {
    "name": "ipython",
    "version": 3
   },
   "pygments_lexer": "ipython3",
   "nbconvert_exporter": "python",
   "file_extension": ".py"
  },
  "kernelspec": {
   "name": "python3",
   "display_name": "Python 3.8.10 64-bit ('base': conda)"
  },
  "interpreter": {
   "hash": "fe3bab233825460445dbfeea6dcd52ef5815a3fa13c858fea07ac830aa383284"
  }
 },
 "nbformat": 4,
 "nbformat_minor": 2
}