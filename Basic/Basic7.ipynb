{
 "cells": [
  {
   "cell_type": "code",
   "execution_count": 22,
   "source": [
    "x = 9\r\n",
    "\r\n",
    "if x == 10:\r\n",
    "    print('x값은')\r\n",
    "    print('10입니다.')\r\n",
    "del x\r\n",
    "\r\n",
    "'''x = int(input('정수를 입력하세요'))\r\n",
    "if x > 10:\r\n",
    "    print('10보다 큰 숫자입니다.')\r\n",
    "    if x == 15:\r\n",
    "        print('15입니다.')\r\n",
    "    if x == 20:\r\n",
    "        print('20입니다.')'''\r\n",
    "\r\n",
    "'''x = 8\r\n",
    "if x == 10:\r\n",
    "    print('It\\'s 10.')\r\n",
    "else:\r\n",
    "    print('It\\'s not 10.')\r\n",
    "del x'''\r\n",
    "\r\n",
    "# 3항 연산자\r\n",
    "x = 1\r\n",
    "if x % 2 == 0:\r\n",
    "    y = 'even'\r\n",
    "else:\r\n",
    "    y = 'odd'\r\n",
    "\r\n",
    "y = 'even' if x % 2 == 0 else 'odd' # 변수 = 참일때의 값 if 조건 else 거짓일때의 값\r\n",
    "y\r\n",
    "\r\n",
    "# 90점 이상이면 'A', 80 ~ 89 : B, 70 ~ 79 : C, 60 ~ 69 : D, ~ 59 : F\r\n",
    "'''score = float(input('점수를 입력하세요 : '))\r\n",
    "x = 'A' if score >= 90 else \\\r\n",
    "        'B' if score >= 80 else \\\r\n",
    "            'C' if score >=70 else \\\r\n",
    "                'D' if score >= 60 else 'F'\r\n",
    "print(x)'''\r\n",
    "\r\n",
    "x = 90\r\n",
    "if x >= 90:\r\n",
    "    print('A')\r\n",
    "else :\r\n",
    "    if x>=80:\r\n",
    "         print('B')\r\n",
    "    else :\r\n",
    "        if x>=70:\r\n",
    "            print('C')\r\n",
    "        else :\r\n",
    "            print('D')"
   ],
   "outputs": [
    {
     "output_type": "stream",
     "name": "stdout",
     "text": [
      "A\n"
     ]
    }
   ],
   "metadata": {}
  }
 ],
 "metadata": {
  "orig_nbformat": 4,
  "language_info": {
   "name": "python",
   "version": "3.8.10",
   "mimetype": "text/x-python",
   "codemirror_mode": {
    "name": "ipython",
    "version": 3
   },
   "pygments_lexer": "ipython3",
   "nbconvert_exporter": "python",
   "file_extension": ".py"
  },
  "kernelspec": {
   "name": "python3",
   "display_name": "Python 3.8.10 64-bit ('base': conda)"
  },
  "interpreter": {
   "hash": "fe3bab233825460445dbfeea6dcd52ef5815a3fa13c858fea07ac830aa383284"
  }
 },
 "nbformat": 4,
 "nbformat_minor": 2
}