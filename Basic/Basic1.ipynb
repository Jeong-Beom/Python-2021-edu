{
 "cells": [
  {
   "cell_type": "code",
   "execution_count": 45,
   "source": [
    "#주석달기1\r\n",
    "##주석달기2\r\n",
    "\"주석달기3 \"\r\n",
    "\r\n",
    "#변수 : int(정수), float(실수), 복소수(complex)\r\n",
    "#계산식 : +(더하기), -(마이너스), /(나누기), **(거듭제곱), //(나눈 몫 계산), %(나머지 계산)\r\n",
    "int(5/2) # 결과값 : 2\r\n",
    "5 / 2 # 결과값 : 2.5\r\n",
    "float(5 / 2) # 결과값 : 2.5\r\n",
    "\r\n",
    "#연습문제1 : 아파트 소음이 가장 심한 층수 출력\r\n",
    "print(0.2467*12+4.159) #출력값 : 7.1194\r\n",
    "\r\n",
    "#변수 작성 및 입력\r\n",
    "#영문 및 숫자사용가능, 대소문자 구분, 문자부터 시작해야함(숫자부터는 불가능)\r\n",
    "#_(밑줄글자)로 시작가능(특별한 의미가 있으니 변수명을 _로는 가급적 사용하지말것). 특수문자 사용불가(연산자 기호 등)\r\n",
    "#파이썬 키워드는 사용불가(for, while, and, or, if 등)\r\n",
    "\r\n",
    "x = float(10) #숫자만 입력하면 int형으로 생성됨\r\n",
    "print(x, type(x))\r\n",
    "del x #print(x)불가 : del 명령어로 변수를 삭제하였기 때문\r\n",
    "x = None #변수에 특정한 값은 부여하지 않았으나 변수사용은 가능, print시에 None으로 나옴\r\n",
    "a = 10 #a결과값은 10\r\n",
    "print(a)\r\n",
    "a = a + 10 #코드는 오른쪽 값을 먼제계산함 : a결과값은 20 / a += 10과 값은 코드임\r\n",
    "print(a)\r\n",
    "\r\n",
    "#x = input('문자열을 입력해주세요 : ')\r\n",
    "#print(x) \r\n",
    "del x\r\n",
    "\r\n",
    "x = int(input('숫자를 입력해주세요 : '))\r\n",
    "y = input('숫자를 입력해주세요 : ')\r\n",
    "print(x,y,type(x),type(y))\r\n",
    "\r\n",
    "\r\n"
   ],
   "outputs": [
    {
     "output_type": "stream",
     "name": "stdout",
     "text": [
      "7.1194\n",
      "10.0 <class 'float'>\n",
      "10\n",
      "20\n",
      "3 3 <class 'int'> <class 'str'>\n"
     ]
    }
   ],
   "metadata": {}
  }
 ],
 "metadata": {
  "orig_nbformat": 4,
  "language_info": {
   "name": "python",
   "version": "3.8.10",
   "mimetype": "text/x-python",
   "codemirror_mode": {
    "name": "ipython",
    "version": 3
   },
   "pygments_lexer": "ipython3",
   "nbconvert_exporter": "python",
   "file_extension": ".py"
  },
  "kernelspec": {
   "name": "python3",
   "display_name": "Python 3.8.10 64-bit ('base': conda)"
  },
  "interpreter": {
   "hash": "fe3bab233825460445dbfeea6dcd52ef5815a3fa13c858fea07ac830aa383284"
  }
 },
 "nbformat": 4,
 "nbformat_minor": 2
}