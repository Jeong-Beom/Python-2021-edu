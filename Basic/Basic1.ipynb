{
 "cells": [
  {
   "cell_type": "code",
   "execution_count": 15,
   "source": [
    "#주석달기1\r\n",
    "##주석달기2\r\n",
    "\"주석달기3 \"\r\n",
    "\r\n",
    "# 변수 : int(정수), float(실수), 복소수(complex)\r\n",
    "# 계산식 : +(더하기), -(마이너스), /(나누기), **(거듭제곱), //(나눈 몫 계산), %(나머지 계산)\r\n",
    "int(5/2) # 결과값 : 2\r\n",
    "5 / 2 # 결과값 : 2.5\r\n",
    "float(5 / 2) # 결과값 : 2.5\r\n",
    "\r\n",
    "# 연습문제1 : 아파트 소음이 가장 심한 층수 출력\r\n",
    "print(0.2467*12+4.159) #출력값 : 7.1194"
   ],
   "outputs": [
    {
     "output_type": "stream",
     "name": "stdout",
     "text": [
      "7.1194\n"
     ]
    }
   ],
   "metadata": {}
  }
 ],
 "metadata": {
  "orig_nbformat": 4,
  "language_info": {
   "name": "python",
   "version": "3.8.10",
   "mimetype": "text/x-python",
   "codemirror_mode": {
    "name": "ipython",
    "version": 3
   },
   "pygments_lexer": "ipython3",
   "nbconvert_exporter": "python",
   "file_extension": ".py"
  },
  "kernelspec": {
   "name": "python3",
   "display_name": "Python 3.8.10 64-bit ('base': conda)"
  },
  "interpreter": {
   "hash": "fe3bab233825460445dbfeea6dcd52ef5815a3fa13c858fea07ac830aa383284"
  }
 },
 "nbformat": 4,
 "nbformat_minor": 2
}