{
 "cells": [
  {
   "cell_type": "code",
   "execution_count": 9,
   "source": [
    "# 리스트와 튜플 응용하기\r\n",
    "# append : 요소 추가 / extend : 리스트를 연결하여 확장 / insert : 특정 인덱스에 요소 추가\r\n",
    "\r\n",
    "a = [1, 2, 3]\r\n",
    "print(a)\r\n",
    "a.append(['x', 'y'])\r\n",
    "print(a)\r\n",
    "a.extend(['x', 'y'])\r\n",
    "print(a)\r\n",
    "for i in range(5):\r\n",
    "    a.append(i)\r\n",
    "print(a)\r\n",
    "del a[4]\r\n",
    "print(a)\r\n",
    "\r\n",
    "stack = []\r\n",
    "stack.append(1); stack.append(2); stack.append(3);\r\n",
    "print(stack)\r\n",
    "\r\n",
    "value = stack.pop()\r\n",
    "print(value, stack)\r\n",
    "\r\n",
    "queue = []\r\n",
    "queue.insert(0, 1); queue.insert(0, 2); queue.insert(0, 3);\r\n",
    "print(queue)\r\n",
    "value2 = queue.pop() # pop은 리스트의 마지막 요소를 삭제후 그 요소를 반환\r\n",
    "print(value2, queue) \r\n",
    "# count함수는 리스트 내에서 특정한 값의 개수를 반환\r\n",
    "# reverse는 요소의 순서를 반대로 뒤집음\r\n",
    "# sort는 리스트의 요소를 작은 순서대로 정렬(오름차순)\r\n",
    "# sorted는 단순히 오름차순으로 정렬하는 sort와는 달리 정렬 후 새로운 리스트를  생성\r\n",
    "# 내림차순 : a.sort(reverse=True)\r\n",
    "# clear함수는 리스트의 모든 요소를 삭제\r\n",
    "# remove함수는 리스트내에서 특정값을 삭제 / 중복되는 값이 있으면 첫번째 변수를 삭제"
   ],
   "outputs": [
    {
     "output_type": "stream",
     "name": "stdout",
     "text": [
      "[1, 2, 3]\n",
      "[1, 2, 3, ['x', 'y']]\n",
      "[1, 2, 3, ['x', 'y'], 'x', 'y']\n",
      "[1, 2, 3, ['x', 'y'], 'x', 'y', 0, 1, 2, 3, 4]\n",
      "[1, 2, 3, ['x', 'y'], 'y', 0, 1, 2, 3, 4]\n",
      "[1, 2, 3]\n",
      "3 [1, 2]\n",
      "[3, 2, 1]\n",
      "1 [3, 2]\n"
     ]
    }
   ],
   "metadata": {}
  }
 ],
 "metadata": {
  "orig_nbformat": 4,
  "language_info": {
   "name": "python",
   "version": "3.8.10",
   "mimetype": "text/x-python",
   "codemirror_mode": {
    "name": "ipython",
    "version": 3
   },
   "pygments_lexer": "ipython3",
   "nbconvert_exporter": "python",
   "file_extension": ".py"
  },
  "kernelspec": {
   "name": "python3",
   "display_name": "Python 3.8.10 64-bit ('base': conda)"
  },
  "interpreter": {
   "hash": "fe3bab233825460445dbfeea6dcd52ef5815a3fa13c858fea07ac830aa383284"
  }
 },
 "nbformat": 4,
 "nbformat_minor": 2
}