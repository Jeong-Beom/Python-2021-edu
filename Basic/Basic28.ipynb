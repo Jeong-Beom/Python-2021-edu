{
 "cells": [
  {
   "cell_type": "code",
   "execution_count": 27,
   "source": [
    "# 정규표현식 활용하기\r\n",
    "import re\r\n",
    "z = re.match('Hello', 'Hello, world!') # 뒤의 문자열에서 앞의 문자열이 어디에 매치되는지 확인할 수 있는 함수\r\n",
    "if z:\r\n",
    "    print('Found!!')\r\n",
    "else:\r\n",
    "    print('Not found.')\r\n",
    "\r\n",
    "if re.search('world', 'Hello, world!'): # match()는 문장의 처음에서 찾고 search()는 모든 문장에서 찾음\r\n",
    "    print('Found!!')\r\n",
    "else:\r\n",
    "    print('Not found.')\r\n",
    "\r\n",
    "# 범위판단 / 휴대전화 번호형식\r\n",
    "pattern = '[0-9]{3}-[0-9]{4}-[0-9]{4}'\r\n",
    "text = '02-1234-5678'\r\n",
    "if re.match(pattern,text):\r\n",
    "    print('올바른 휴대전화번호')\r\n",
    "else:\r\n",
    "    print('잘못된 휴대전화번호')\r\n",
    "\r\n",
    "# 한글 패턴\r\n",
    "hangul = '[ㄱ-ㅎㅏ-ㅣ가-힣]'\r\n",
    "text = '홍길동'\r\n",
    "if re.search(hangul, text):\r\n",
    "    print('한글이 있음')\r\n",
    "else:\r\n",
    "    print('한글이 없음')\r\n",
    "\r\n",
    "# 문자열 바꾸기\r\n",
    "# re.sub('패턴', '바꿀 문자열', '문자열')\r\n",
    "re.sub('apple|orange', 'fruit', 'apple box orange tree')\r\n",
    "re.sub('[0-9]', 'n', '1 2 Fizz 4 Buzz Fizz 7 8 Fizz Buzz 11 12')\r\n",
    "text = '''\r\n",
    "가장 단순한 형태의 원자는 리터럴이지만 원자를 일치시키기 위해 패턴을\r\n",
    "묶을 때에는 메타문자로서 ()를 사용해야한다. 메타문자는 원자 외에도 얼마나 많은\r\n",
    "원자가 있는지를 가리키는 수량자, 선택적인 대안을 가리키는 논리적 OR문자,\r\n",
    "그리고 원자의 존재를 부정하는 NOT문자, 그리고 전에 일치된 원자를 참조할 수 있게\r\n",
    "하는 역참조를 만드는 것을 도와준다.\r\n",
    "'''\r\n",
    "not_hangul_blank = '[^ㄱ-하-ㅣ가-힣]'\r\n",
    "text1 = '에밀리블런트 사랑해,, 사람스러움의 끝ㅠㅠ 4DX로 보면 더 좋을 듯'\r\n",
    "text1 = re.sub(not_hangul_blank,'',text1)\r\n",
    "text1\r\n",
    "\r\n",
    "import re\r\n",
    "p = re.compile('^[0-9a-zA-Z]([-_.]?[0-9a-zA-Z])*@[0-9a-zA-Z]([-_.]?[0-9a-zA-Z])*.[a-zA-Z]{2,3}$')\r\n",
    "emails = ['python@mail.example.com','python+kr@example.com','[ython-dojang@example.co.kr', 'python_10@example.info', \\\r\n",
    "    'python.dojang@e-xample.com', 'python@example', 'python@example-com']\r\n",
    "for email in emails:\r\n",
    "    print(p.match(email) != None, end = ' ')"
   ],
   "outputs": [
    {
     "output_type": "stream",
     "name": "stdout",
     "text": [
      "Found!!\n",
      "Found!!\n",
      "잘못된 휴대전화번호\n",
      "한글이 있음\n",
      "True False False True True True True "
     ]
    }
   ],
   "metadata": {}
  }
 ],
 "metadata": {
  "orig_nbformat": 4,
  "language_info": {
   "name": "python",
   "version": "3.8.10",
   "mimetype": "text/x-python",
   "codemirror_mode": {
    "name": "ipython",
    "version": 3
   },
   "pygments_lexer": "ipython3",
   "nbconvert_exporter": "python",
   "file_extension": ".py"
  },
  "kernelspec": {
   "name": "python3",
   "display_name": "Python 3.8.10 64-bit ('base': conda)"
  },
  "interpreter": {
   "hash": "fe3bab233825460445dbfeea6dcd52ef5815a3fa13c858fea07ac830aa383284"
  }
 },
 "nbformat": 4,
 "nbformat_minor": 2
}