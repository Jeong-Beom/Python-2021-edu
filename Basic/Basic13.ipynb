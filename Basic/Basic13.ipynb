{
 "cells": [
  {
   "cell_type": "code",
   "execution_count": 28,
   "source": [
    "# 문자열 조작\r\n",
    "x = 'Hello, world!'\r\n",
    "x.replace('world', 'python')\r\n",
    "print(x.replace('world', 'python'))\r\n",
    "print(x) # replace함수로 실제값을 변경하기 위해서는 해당 내용을 새로운 변수에 할당하는 것이 필요\r\n",
    "x = x.replace('world', 'python')\r\n",
    "print(x)\r\n",
    "del x\r\n",
    "\r\n",
    "# 문자열 분리\r\n",
    "x = 'apple, pear, grape, pine apple'\r\n",
    "y = x.split(', ')\r\n",
    "print(y)\r\n",
    "\r\n",
    "# 문자열 연결\r\n",
    "'>>'.join(y)\r\n",
    "\r\n",
    "# 대소문자 변경\r\n",
    "'python'.upper() \r\n",
    "'PYTHON'.lower()\r\n",
    " \r\n",
    "# 공백 없애기\r\n",
    "p = ' Python '\r\n",
    "p.lstrip() # 왼쪽 공백만 제거 / rstrip : 우측 공백만 제거 / strip : 양측을 모두 제거\r\n",
    "\r\n",
    "p = '\\t\\t Python \\n\\n' # 실제 데이터 크롤링을 하면 해당 형식으로 표시되는 경우가 많음.\r\n",
    "print(p)\r\n",
    "p = p.strip('\\n\\t ') # 양쪽에서 지우고 싶은 글자들을 모두제거가능 \\n, \\t, 공백을 모두 제거\r\n",
    "print(p)\r\n",
    "\r\n",
    "from string import punctuation\r\n",
    "punctuation # 해당 내용을 활용하면 자료내 모든 punctuation을 제거 및 수정 가능\r\n",
    "\r\n",
    "# 문자열 위치 찾기\r\n",
    "f = 'apple pineapple'\r\n",
    "f.find('ap') # 첫번째로 찾은 해당문자의 위치만 확인가능\r\n",
    "f.find('ba')\r\n",
    "f.find('pi') \r\n",
    "f.count('ap') # 문자열 세기\r\n",
    "\r\n",
    "# 문자열 서식 지정자\r\n",
    "# f'문자열 {변수 : 포맷스트링}'\r\n",
    "age = 20\r\n",
    "f'I am {age} years old.'\r\n",
    "\r\n",
    "pi = 3.1415926535\r\n",
    "f'pi = {pi:.4f}' # 결과값 : 'pi = 3.1416'"
   ],
   "outputs": [
    {
     "output_type": "stream",
     "name": "stdout",
     "text": [
      "Hello, python!\n",
      "Hello, world!\n",
      "Hello, python!\n",
      "['apple', 'pear', 'grape', 'pine apple']\n",
      "\t\t Python \n",
      "\n",
      "\n",
      "Python\n"
     ]
    },
    {
     "output_type": "execute_result",
     "data": {
      "text/plain": [
       "'pi = 3.1416'"
      ]
     },
     "metadata": {},
     "execution_count": 28
    }
   ],
   "metadata": {}
  }
 ],
 "metadata": {
  "orig_nbformat": 4,
  "language_info": {
   "name": "python",
   "version": "3.8.10",
   "mimetype": "text/x-python",
   "codemirror_mode": {
    "name": "ipython",
    "version": 3
   },
   "pygments_lexer": "ipython3",
   "nbconvert_exporter": "python",
   "file_extension": ".py"
  },
  "kernelspec": {
   "name": "python3",
   "display_name": "Python 3.8.10 64-bit ('base': conda)"
  },
  "interpreter": {
   "hash": "fe3bab233825460445dbfeea6dcd52ef5815a3fa13c858fea07ac830aa383284"
  }
 },
 "nbformat": 4,
 "nbformat_minor": 2
}