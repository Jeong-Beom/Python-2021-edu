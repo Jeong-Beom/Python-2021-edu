{
 "cells": [
  {
   "cell_type": "code",
   "execution_count": 29,
   "source": [
    "# 매개변수에 초기값 지정\r\n",
    "x = {'name' : '홍길동', 'age' : 30, 'addr' : '서울 강남구 도곡동'} \r\n",
    "def personal_info4(name, age, addr = '비공개'): # 초기값이 지정된 매개변수는 함수의 마지막에 작성해주어야 함\r\n",
    "    print('이름 : ', name)\r\n",
    "    print('나이 : ', age)\r\n",
    "    print('주소 : ', addr)\r\n",
    "personal_info4('홍길동', 30)\r\n",
    "personal_info4(**x)\r\n",
    "\r\n",
    "# 재귀호출(Recursive Call)을 활용하여 팩토리얼 구하기\r\n",
    "def factorial(n):\r\n",
    "    if n == 0:\r\n",
    "        return 1\r\n",
    "    return n*factorial(n-1)\r\n",
    "factorial(5)\r\n",
    "\r\n",
    "def fibo(n):\r\n",
    "    if n == 1 or n == 2:\r\n",
    "        return 1\r\n",
    "    return fibo(n-1) + fibo(n-2)\r\n",
    "[fibo(i) for i in range(1,11)]"
   ],
   "outputs": [
    {
     "output_type": "stream",
     "name": "stdout",
     "text": [
      "이름 :  홍길동\n",
      "나이 :  30\n",
      "주소 :  비공개\n",
      "이름 :  홍길동\n",
      "나이 :  30\n",
      "주소 :  서울 강남구 도곡동\n"
     ]
    },
    {
     "output_type": "execute_result",
     "data": {
      "text/plain": [
       "[1, 1, 2, 3, 5, 8, 13, 21, 34, 55]"
      ]
     },
     "metadata": {},
     "execution_count": 29
    }
   ],
   "metadata": {}
  }
 ],
 "metadata": {
  "orig_nbformat": 4,
  "language_info": {
   "name": "python",
   "version": "3.8.10",
   "mimetype": "text/x-python",
   "codemirror_mode": {
    "name": "ipython",
    "version": 3
   },
   "pygments_lexer": "ipython3",
   "nbconvert_exporter": "python",
   "file_extension": ".py"
  },
  "kernelspec": {
   "name": "python3",
   "display_name": "Python 3.8.10 64-bit ('base': conda)"
  },
  "interpreter": {
   "hash": "fe3bab233825460445dbfeea6dcd52ef5815a3fa13c858fea07ac830aa383284"
  }
 },
 "nbformat": 4,
 "nbformat_minor": 2
}