{
 "cells": [
  {
   "cell_type": "code",
   "execution_count": 112,
   "source": [
    "# (파이썬 코딩도장) Unit 8. 불과 비교, 논리 연산자 알아보기\r\n",
    "'''kor, eng, math, sci = map(int, input('점수를 입력하세요(국어, 영어, 수학, 과학 순서로 입력) :').split())\r\n",
    "if kor >= 90 and eng > 80 and math > 85 and sci >= 80 :\r\n",
    "    print(True)\r\n",
    "else :\r\n",
    "    print(False)'''\r\n",
    "\r\n",
    "# (파이썬 코딩도장) Unit 9. 여러줄로 된 문자열 사용하기\r\n",
    "'''sol = '\\'Python\\' is a \\\"programming language\\\"\\n\\\r\n",
    "that lets you work quickly\\n\\\r\n",
    "and\\n\\\r\n",
    "integrate systems more effectively'\r\n",
    "print(sol)'''\r\n",
    "\r\n",
    "# (파이썬 코딩도장) Unit 10. 리스트와 튜플 사용하기\r\n",
    "'''x = int(input('1~10 사이중 한가지 정수를 입력해주세요 : '))\r\n",
    "y = tuple(range(-10, 10, x))\r\n",
    "print(y)'''\r\n",
    "\r\n",
    "# (파이썬 코딩도장) Unit 11. 시퀸스 자료형 활용하기\r\n",
    "'''x = list(input('숫자 또는 단어를 입력하세요(최소 5개 이상 입력할 것) : ').split())\r\n",
    "y = tuple(x[0 : len(x)-5])\r\n",
    "print(y)'''\r\n",
    "\r\n",
    "# (파이썬 코딩도장) Unit 10. 시퀀스 자료형 활용하기\r\n",
    "'''x, y = map(str, input('단어 두개를 입력하세요 : ').split())\r\n",
    "z = x[1::2] + y[::2]\r\n",
    "print(z)'''\r\n",
    "'''x = input()\r\n",
    "y = input()\r\n",
    "z = x[1::2] + y[::2]\r\n",
    "print(z)'''\r\n",
    "\r\n",
    "# (파이썬 코딩도장) Unit 12. 딕셔너리 사용하기\r\n",
    "'''x = input('문자열을 입력하세요 : ').split()\r\n",
    "y = list(map(float, input('숫자를 입력하세요').split())) \r\n",
    "z = dict()\r\n",
    "\r\n",
    "if len(x) >= len(y):\r\n",
    "    for i in range(len(x)-len(y)):\r\n",
    "        y.append('NA')\r\n",
    "    for i in range(len(x)):\r\n",
    "        z[x[i]] = y[i]\r\n",
    "elif len(x) == len(y):\r\n",
    "    for i in range(len(x)):\r\n",
    "        z[x[i]] = y[i]\r\n",
    "else:\r\n",
    "    for i in range(len(y)-len(x)):\r\n",
    "        x.append('NA')\r\n",
    "    for i in range(len(y)):\r\n",
    "        z[x[i]] = y[i]\r\n",
    "print(z)'''\r\n",
    "\r\n",
    "# (파이썬 코딩도장) Unit 13. if조건문으로 특정조건일 때 코드 실행하기\r\n",
    "'''x = int(input('제품가격을 입력하세요 : '))\r\n",
    "y = input('쿠폰이름을 입력하세요 : ')\r\n",
    "type(x)\r\n",
    "print(x - 3000) if y == 'Cash3000' else print(x - 5000) if y == 'Cash5000' else print('쿠폰이름을 다시 입력해주세요')'''\r\n",
    "\r\n",
    "# (파이썬 코딩도장) Unit 14. else를 이용하여 두 방향으로 분기하기\r\n",
    "'''kor, eng, math, sci = map(int, input('점수를 입력해주세요.(국어, 영어, 수학, 과학 순으로 입력해주세요.').split())\r\n",
    "avg = (kor + eng + math + sci) / 4\r\n",
    "error = 0 <= kor <= 100 and 0 <= eng <= 100 and 0 <= math <= 100 and 0 <= sci <= 100\r\n",
    "print('합격') if avg >= 80 and error == True  else print('불합격') if avg < 80 and error == True else print('잘못된 점수')'''"
   ],
   "outputs": [
    {
     "output_type": "stream",
     "name": "stdout",
     "text": [
      "False\n",
      "잘못된 점수\n"
     ]
    }
   ],
   "metadata": {}
  }
 ],
 "metadata": {
  "orig_nbformat": 4,
  "language_info": {
   "name": "python",
   "version": "3.8.10",
   "mimetype": "text/x-python",
   "codemirror_mode": {
    "name": "ipython",
    "version": 3
   },
   "pygments_lexer": "ipython3",
   "nbconvert_exporter": "python",
   "file_extension": ".py"
  },
  "kernelspec": {
   "name": "python3",
   "display_name": "Python 3.8.10 64-bit ('base': conda)"
  },
  "interpreter": {
   "hash": "fe3bab233825460445dbfeea6dcd52ef5815a3fa13c858fea07ac830aa383284"
  }
 },
 "nbformat": 4,
 "nbformat_minor": 2
}