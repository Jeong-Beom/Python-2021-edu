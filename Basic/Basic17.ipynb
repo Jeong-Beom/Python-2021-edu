{
 "cells": [
  {
   "cell_type": "code",
   "execution_count": 44,
   "source": [
    "# 함수\r\n",
    "def hello():\r\n",
    "    print('Hello, world!')\r\n",
    "\r\n",
    "hello()\r\n",
    "# print? 해당함수에 대한 간략한 설명을 확인할 수 있음\r\n",
    "def add(a,b):\r\n",
    "    return a+b\r\n",
    "\r\n",
    "add(4,5), add(10,20)\r\n",
    "\r\n",
    "def add_sub(a, b):\r\n",
    "    return a+b, a-b\r\n",
    "x, y = add_sub(15,7) # tuple unpacking활용\r\n",
    "x, y\r\n",
    "\r\n",
    "# 함수의 호출과정은 stack을 이용한다\r\n",
    "def is_palindrome(x):\r\n",
    "    s = str(x)\r\n",
    "    return s == s[::-1]\r\n",
    "is_palindrome(12345), is_palindrome(906609)\r\n",
    "max_pal, m, n = 0, 0, 0\r\n",
    "for i in range(100,1000):\r\n",
    "    for k in range(i, 1000):\r\n",
    "        if is_palindrome(i*k):\r\n",
    "            if i*k > max_pal:\r\n",
    "                max_pal = i*k\r\n",
    "                m = i\r\n",
    "                n = k\r\n",
    "print(f'{m} x {n} = {max_pal}')\r\n"
   ],
   "outputs": [
    {
     "output_type": "stream",
     "name": "stdout",
     "text": [
      "Hello, world!\n",
      "913 x 993 = 906609\n"
     ]
    },
    {
     "output_type": "execute_result",
     "data": {
      "text/plain": [
       "'63'"
      ]
     },
     "metadata": {},
     "execution_count": 44
    }
   ],
   "metadata": {}
  },
  {
   "cell_type": "code",
   "execution_count": null,
   "source": [],
   "outputs": [],
   "metadata": {}
  }
 ],
 "metadata": {
  "orig_nbformat": 4,
  "language_info": {
   "name": "python",
   "version": "3.8.10",
   "mimetype": "text/x-python",
   "codemirror_mode": {
    "name": "ipython",
    "version": 3
   },
   "pygments_lexer": "ipython3",
   "nbconvert_exporter": "python",
   "file_extension": ".py"
  },
  "kernelspec": {
   "name": "python3",
   "display_name": "Python 3.8.10 64-bit ('base': conda)"
  },
  "interpreter": {
   "hash": "fe3bab233825460445dbfeea6dcd52ef5815a3fa13c858fea07ac830aa383284"
  }
 },
 "nbformat": 4,
 "nbformat_minor": 2
}