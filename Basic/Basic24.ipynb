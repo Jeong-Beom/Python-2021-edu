{
 "cells": [
  {
   "cell_type": "code",
   "execution_count": 19,
   "source": [
    "# 1: 계좌생성, 2: 계좌목록, 3: 입금, 4: 출금, 5: 종료\r\n",
    "class Account:\r\n",
    "    def __init__(self, ano, owner, balance):\r\n",
    "        self.ano = ano\r\n",
    "        self.owner = owner\r\n",
    "        self.__balance = balance\r\n",
    "\r\n",
    "    def deposit(self, amount):\r\n",
    "        if amount + self.__balance >= 10000000:\r\n",
    "            print(f'현재 잔액이 {self.__balance}이므로 입금이 불가능합니다.')\r\n",
    "            return\r\n",
    "        self.__balance += amount        \r\n",
    "\r\n",
    "    def withdraw(self, amount):\r\n",
    "        if self.__balance - amount < 0:\r\n",
    "            print(f'현재 잔액이 {self.__balance}이므로 출금이 불가능합니다.')\r\n",
    "            return\r\n",
    "        self.__balance -= amount\r\n",
    "\r\n",
    "    def __str__(self):\r\n",
    "        return f'계좌번호 : {self.ano}, 소유주 : {self.owner}, 잔액 : {self.__balance:9,d}'\r\n",
    "\r\n",
    "acc = Account('123456', 'james', 100000)\r\n",
    "acc2 = Account('987432', '마리아', 3000000)\r\n",
    "acc_list = [acc, acc2]\r\n",
    "def check_duplicate(ano):\r\n",
    "    for acc in acc_list:\r\n",
    "        if ano == acc.ano:\r\n",
    "            return True\r\n",
    "    return False\r\n",
    "\r\n",
    "def creat_account():\r\n",
    "    while True:\r\n",
    "        s = input('계좌번호 성명 금액').split()\r\n",
    "        ano, owner = s[0], s[1]\r\n",
    "        amount = int(s[2])\r\n",
    "        if not check_duplicate(ano):\r\n",
    "            break\r\n",
    "    acc = Account(ano, owner, amount)\r\n",
    "    acc_list.append(acc)\r\n",
    "\r\n",
    "def deposit_account():\r\n",
    "    s = input('계좌번호 금액> ').split()\r\n",
    "    ano, amount = s[0], int(s[1])\r\n",
    "    for acc in acc_list:\r\n",
    "        if acc.ano == ano:\r\n",
    "            acc.deposit(amount)\r\n",
    "            return\r\n",
    "\r\n",
    "def withdraw_account():\r\n",
    "    s = input('계좌번호 금액> ').split()\r\n",
    "    ano, amount = s[0], int(s[1])\r\n",
    "    for acc in acc_list:\r\n",
    "        if acc.ano == ano:\r\n",
    "            acc.withdraw(amount)\r\n",
    "            return\r\n",
    "\r\n",
    "while True:\r\n",
    "    menu = int(input('1: 계좌생성, 2: 계좌목록, 3: 입금, 4: 출금, 5: 종료>'))\r\n",
    "    if menu == 5:\r\n",
    "        break\r\n",
    "    if menu == 1:\r\n",
    "        creat_account()\r\n",
    "    elif menu == 2:\r\n",
    "        for account in acc_list:\r\n",
    "            print(account)\r\n",
    "    elif menu == 3:\r\n",
    "        deposit_account()\r\n",
    "    elif menu ==4:\r\n",
    "        withdraw_account()    \r\n",
    "print(acc_list, type(acc_list))"
   ],
   "outputs": [
    {
     "output_type": "stream",
     "name": "stdout",
     "text": [
      "계좌번호 : 123456, 소유주 : james, 잔액 :   100,000\n",
      "계좌번호 : 987432, 소유주 : 마리아, 잔액 : 3,000,000\n",
      "계좌번호 : 255431, 소유주 : 조정범, 잔액 : 1,000,000\n",
      "계좌번호 : 123456, 소유주 : james, 잔액 :   100,000\n",
      "계좌번호 : 987432, 소유주 : 마리아, 잔액 : 3,000,000\n",
      "계좌번호 : 255431, 소유주 : 조정범, 잔액 : 1,500,000\n"
     ]
    },
    {
     "output_type": "error",
     "ename": "ValueError",
     "evalue": "invalid literal for int() with base 10: ''",
     "traceback": [
      "\u001b[1;31m---------------------------------------------------------------------------\u001b[0m",
      "\u001b[1;31mValueError\u001b[0m                                Traceback (most recent call last)",
      "\u001b[1;32m<ipython-input-19-b3ee7f26f7f1>\u001b[0m in \u001b[0;36m<module>\u001b[1;34m\u001b[0m\n\u001b[0;32m     50\u001b[0m \u001b[1;33m\u001b[0m\u001b[0m\n\u001b[0;32m     51\u001b[0m \u001b[1;32mwhile\u001b[0m \u001b[1;32mTrue\u001b[0m\u001b[1;33m:\u001b[0m\u001b[1;33m\u001b[0m\u001b[1;33m\u001b[0m\u001b[0m\n\u001b[1;32m---> 52\u001b[1;33m     \u001b[0mmenu\u001b[0m \u001b[1;33m=\u001b[0m \u001b[0mint\u001b[0m\u001b[1;33m(\u001b[0m\u001b[0minput\u001b[0m\u001b[1;33m(\u001b[0m\u001b[1;34m'1: 계좌생성, 2: 계좌목록, 3: 입금, 4: 출금, 5: 종료>'\u001b[0m\u001b[1;33m)\u001b[0m\u001b[1;33m)\u001b[0m\u001b[1;33m\u001b[0m\u001b[1;33m\u001b[0m\u001b[0m\n\u001b[0m\u001b[0;32m     53\u001b[0m     \u001b[1;32mif\u001b[0m \u001b[0mmenu\u001b[0m \u001b[1;33m==\u001b[0m \u001b[1;36m5\u001b[0m\u001b[1;33m:\u001b[0m\u001b[1;33m\u001b[0m\u001b[1;33m\u001b[0m\u001b[0m\n\u001b[0;32m     54\u001b[0m         \u001b[1;32mbreak\u001b[0m\u001b[1;33m\u001b[0m\u001b[1;33m\u001b[0m\u001b[0m\n",
      "\u001b[1;31mValueError\u001b[0m: invalid literal for int() with base 10: ''"
     ]
    }
   ],
   "metadata": {}
  }
 ],
 "metadata": {
  "orig_nbformat": 4,
  "language_info": {
   "name": "python",
   "version": "3.8.10",
   "mimetype": "text/x-python",
   "codemirror_mode": {
    "name": "ipython",
    "version": 3
   },
   "pygments_lexer": "ipython3",
   "nbconvert_exporter": "python",
   "file_extension": ".py"
  },
  "kernelspec": {
   "name": "python3",
   "display_name": "Python 3.8.10 64-bit ('base': conda)"
  },
  "interpreter": {
   "hash": "fe3bab233825460445dbfeea6dcd52ef5815a3fa13c858fea07ac830aa383284"
  }
 },
 "nbformat": 4,
 "nbformat_minor": 2
}