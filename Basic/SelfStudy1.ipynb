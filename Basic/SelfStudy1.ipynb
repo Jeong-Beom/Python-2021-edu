{
 "cells": [
  {
   "cell_type": "code",
   "execution_count": 24,
   "source": [
    "import pickle\r\n",
    "name = 'james'\r\n",
    "age = 17\r\n",
    "address = '서울 서초구 반포동'\r\n",
    "scores = {'korean' : 90, 'english' : 95, 'mathematcis' : 85, 'science' : 82}\r\n",
    "\r\n",
    "with open('james.p', 'wb') as file:\r\n",
    "    pickle.dump(name, file)\r\n",
    "    pickle.dump(age, file)\r\n",
    "    pickle.dump(address, file)\r\n",
    "    pickle.dump(scores, file)\r\n",
    "\r\n",
    "with open('james.p', 'rb') as file:\r\n",
    "    name = pickle.load(file)\r\n",
    "    age = pickle.load(file)\r\n",
    "    address = pickle.load(file)\r\n",
    "    scores = pickle.load(file)\r\n",
    "    print(name)\r\n",
    "    print(age)\r\n",
    "    print(address)\r\n",
    "    print(scores)\r\n",
    "\r\n",
    "words1 = ['anonymously\\n', 'compatibility\\n', 'dashboard\\n', 'experience\\n', 'photography\\n', 'spotlight\\n', 'warehouse']\r\n",
    "with open('words.txt', 'w') as file:\r\n",
    "    file.writelines(words1)\r\n",
    "\r\n",
    "with open('words.txt', 'r')as file:\r\n",
    "    words = file.readlines()\r\n",
    "count = 0\r\n",
    "for word in words:\r\n",
    "    if len(word.strip('\\n')) <= 10:\r\n",
    "        count += 1\r\n",
    "print(count)\r\n",
    "\r\n",
    "\r\n",
    "    "
   ],
   "outputs": [
    {
     "output_type": "stream",
     "name": "stdout",
     "text": [
      "james\n",
      "17\n",
      "서울 서초구 반포동\n",
      "{'korean': 90, 'english': 95, 'mathematcis': 85, 'science': 82}\n",
      "4\n"
     ]
    }
   ],
   "metadata": {}
  }
 ],
 "metadata": {
  "orig_nbformat": 4,
  "language_info": {
   "name": "python",
   "version": "3.8.10",
   "mimetype": "text/x-python",
   "codemirror_mode": {
    "name": "ipython",
    "version": 3
   },
   "pygments_lexer": "ipython3",
   "nbconvert_exporter": "python",
   "file_extension": ".py"
  },
  "kernelspec": {
   "name": "python3",
   "display_name": "Python 3.8.10 64-bit ('base': conda)"
  },
  "interpreter": {
   "hash": "fe3bab233825460445dbfeea6dcd52ef5815a3fa13c858fea07ac830aa383284"
  }
 },
 "nbformat": 4,
 "nbformat_minor": 2
}