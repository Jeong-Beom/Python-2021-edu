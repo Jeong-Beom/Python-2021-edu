{
 "cells": [
  {
   "cell_type": "code",
   "execution_count": 17,
   "source": [
    "# 세트(집합) 활용하기\r\n",
    "fruits = {'apple', 'banana', 'cherry', 'orange', 'grape', 'apple'}\r\n",
    "print(fruits, type(fruits))\r\n",
    "\r\n",
    "'peach' not in fruits # True\r\n",
    "'orange' in fruits # True\r\n",
    "\r\n",
    "set('안녕하세요?')\r\n",
    "\r\n",
    "# 연산\r\n",
    "a = set(range(4))\r\n",
    "b = set(range(2,6))\r\n",
    "print(a,b)\r\n",
    "print(set.union(a,b)) # 합집합(union) / a | b\r\n",
    "print(set.intersection(a,b)) # 교집합(intersection) / a & b\r\n",
    "print(set.difference(a,b)) # 차집합(difference) / a - b\r\n",
    "print(set.symmetric_difference(a, b))# 대칭차집합(symmetric_difference) / a ^ b / 두 집합의 구성요소 중 한가지 집합에만 속하는 요소들\r\n",
    "\r\n",
    "# 부분집합과 상위집합\r\n",
    "a <= {0, 1, 2, 3}\r\n",
    "a.issubset({0, 1, 2, 3, 4}) # 부분집합\r\n",
    "a >= {1, 2, 3}\r\n",
    "a.issuperset({1, 2, 3}) # 상위집합\r\n",
    "a == {3, 1, 0, 2} # 결과값 : True / 세트는 순서와 상관이 없음\r\n",
    "a.isdisjoint(b) # 겹치는게 없는지 물어보는 것 / 결과값 : False\r\n",
    "a.add(4) # 세트에 요소추가\r\n",
    "a.remove(4) # 세트에서 요소제거\r\n",
    "a.pop() # 임의의 요소 하나가 삭제됨\r\n",
    "a.len() # 길이파악하기"
   ],
   "outputs": [
    {
     "output_type": "stream",
     "name": "stdout",
     "text": [
      "{'cherry', 'apple', 'banana', 'grape', 'orange'} <class 'set'>\n",
      "{0, 1, 2, 3} {2, 3, 4, 5}\n",
      "{0, 1, 2, 3, 4, 5}\n",
      "{2, 3}\n",
      "{0, 1}\n",
      "{0, 1, 4, 5}\n"
     ]
    }
   ],
   "metadata": {}
  }
 ],
 "metadata": {
  "orig_nbformat": 4,
  "language_info": {
   "name": "python",
   "version": "3.8.10",
   "mimetype": "text/x-python",
   "codemirror_mode": {
    "name": "ipython",
    "version": 3
   },
   "pygments_lexer": "ipython3",
   "nbconvert_exporter": "python",
   "file_extension": ".py"
  },
  "kernelspec": {
   "name": "python3",
   "display_name": "Python 3.8.10 64-bit ('base': conda)"
  },
  "interpreter": {
   "hash": "fe3bab233825460445dbfeea6dcd52ef5815a3fa13c858fea07ac830aa383284"
  }
 },
 "nbformat": 4,
 "nbformat_minor": 2
}