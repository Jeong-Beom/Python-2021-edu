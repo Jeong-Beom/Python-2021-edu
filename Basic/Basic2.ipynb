{
 "cells": [
  {
   "cell_type": "code",
   "execution_count": 37,
   "source": [
    "s = 'Hello world'\r\n",
    "s.split() #공백을 기준으로 구분하여 조치\r\n",
    "\r\n",
    "'''a, b = input('숫자 두개를 입력하세요: ').split()\r\n",
    "a = int(a)\r\n",
    "b = int(b) #입력받은 함수를 정수로 변환\r\n",
    "print(a+b)'''\r\n",
    "\r\n",
    "# map함수이용하기\r\n",
    "'''a, b = map(int, input('숫자를 두개를 입력해주세요(1개 숫자 입력 후 스페이스한칸 치고 입력할 것) :').split())\r\n",
    "a+b'''\r\n",
    "# int a;(변수 선언), a = 10(변수할당) : 파이썬에서는 변수선언을 하지 않아도 변수할당이 가능\r\n",
    "# a = a + 10 변수선언없이 해당변수를 계산식에 쓰면 오류발생\r\n",
    "\r\n",
    "'''print(1,2,3)\r\n",
    "print(1,2,3, sep=', ') #sep 함수로 출력시 출력값에 대한 구분표시가능\r\n",
    "print(1,2,3, sep = '\\n') #\\n : 줄바꿈 \r\n",
    "print('1\\n2\\n3')\r\n",
    "print('1 \\n 2 \\n 3')\r\n",
    "print('\\\\') # \\기호를 사용 및 활용하기 위해서는 \\을 2개입력필요(\\의 특수성 : 파일위치 및 이름 작성 시 반드시 참고할것)\r\n",
    "print('https:\\\\\\\\') #출력값 : https:\\\\'''\r\n",
    "\r\n",
    "for i in range(5):\r\n",
    "    print(i, end = \" \")\r\n"
   ],
   "outputs": [
    {
     "output_type": "stream",
     "name": "stdout",
     "text": [
      "0 1 2 3 4 "
     ]
    }
   ],
   "metadata": {}
  }
 ],
 "metadata": {
  "orig_nbformat": 4,
  "language_info": {
   "name": "python",
   "version": "3.8.10",
   "mimetype": "text/x-python",
   "codemirror_mode": {
    "name": "ipython",
    "version": 3
   },
   "pygments_lexer": "ipython3",
   "nbconvert_exporter": "python",
   "file_extension": ".py"
  },
  "kernelspec": {
   "name": "python3",
   "display_name": "Python 3.8.10 64-bit ('base': conda)"
  },
  "interpreter": {
   "hash": "fe3bab233825460445dbfeea6dcd52ef5815a3fa13c858fea07ac830aa383284"
  }
 },
 "nbformat": 4,
 "nbformat_minor": 2
}