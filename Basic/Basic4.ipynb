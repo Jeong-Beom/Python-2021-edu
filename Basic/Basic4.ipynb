{
 "cells": [
  {
   "cell_type": "code",
   "execution_count": 52,
   "source": [
    "#문자열 사용하기\r\n",
    "#문자열은 '와 \" 로 작성및 변수 부여가능(STRING 변수)\r\n",
    "x = '''Hello, world\r\n",
    "welcome to the new world''' #여러줄의 문자열 변수 작성 및 부여\r\n",
    "# print(x)\r\n",
    "# del x\r\n",
    "\r\n",
    "#문자열작성시 ' 및 \"사용하기\r\n",
    "'''x = \"Python isn't difficult\"\r\n",
    "y = 'He said to me \"i love you.\"'\r\n",
    "print(x,y, sep='\\n')\r\n",
    "del x,y\r\n",
    "\r\n",
    "#리스트와 튜플 \r\n",
    "x = [38, 21, 53, 62, 19]\r\n",
    "#파이썬에서는 리스트 속성이 다른 자료형도 가능\r\n",
    "print(x)\r\n",
    "del x'''\r\n",
    "\r\n",
    "x = ['정범', 19, 15.4, True]\r\n",
    "type(x[0])\r\n",
    "del x\r\n",
    "\r\n",
    "x = {'name' : '정범', 'age' : 19, 'height' : 171.4}\r\n",
    "type(x)\r\n",
    "del x #딕셔너리는 순서가 보장이 되지 않음.\r\n",
    "\r\n",
    "#빈 리스트 만들기\r\n",
    "x = []\r\n",
    "y = list()\r\n",
    "del x, y\r\n",
    "\r\n",
    "#range([시작숫자], 끝나는 숫자+1,[증가분])\r\n",
    "'''x = range(1,11)\r\n",
    "y = list(x)\r\n",
    "print(y)'''\r\n",
    "\r\n",
    "list(range(1, 11, 2)) #1에서 10까지 숫자중 홀수만 출력하기\r\n",
    "#print(list(range(10,0,-1)))\r\n",
    "\r\n",
    "#튜플(tuple)은 ()로 리스트는 [] 생성가능, 튜플은 안에 저장된 요소를 변경, 추가, 삭제 불가\r\n",
    "x = 38, 21, 47\r\n",
    "# print(x, type(x))\r\n",
    "del x\r\n",
    "\r\n",
    "x = [1, 3, 4]\r\n",
    "y = tuple(x) \r\n",
    "print(x, y, type(x),type(y))\r\n",
    "del x,y\r\n",
    "\r\n",
    "#언팩킹(Unpakcing) : 튜플 및 리스트에 있는 요소들을 변수에 부여\r\n",
    "a = (1, 3, 5)\r\n",
    "x, y, z = a\r\n",
    "print(len(a), x, y, z)"
   ],
   "outputs": [
    {
     "output_type": "stream",
     "name": "stdout",
     "text": [
      "[1, 3, 4] (1, 3, 4) <class 'list'> <class 'tuple'>\n",
      "3 1 3 5\n"
     ]
    }
   ],
   "metadata": {}
  }
 ],
 "metadata": {
  "orig_nbformat": 4,
  "language_info": {
   "name": "python",
   "version": "3.8.10",
   "mimetype": "text/x-python",
   "codemirror_mode": {
    "name": "ipython",
    "version": 3
   },
   "pygments_lexer": "ipython3",
   "nbconvert_exporter": "python",
   "file_extension": ".py"
  },
  "kernelspec": {
   "name": "python3",
   "display_name": "Python 3.8.10 64-bit ('base': conda)"
  },
  "interpreter": {
   "hash": "fe3bab233825460445dbfeea6dcd52ef5815a3fa13c858fea07ac830aa383284"
  }
 },
 "nbformat": 4,
 "nbformat_minor": 2
}