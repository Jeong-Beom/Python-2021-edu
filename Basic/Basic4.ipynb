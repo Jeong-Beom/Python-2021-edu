{
 "cells": [
  {
   "cell_type": "code",
   "execution_count": 14,
   "source": [
    "#문자열 사용하기\r\n",
    "#문자열은 '와 \" 로 작성및 변수 부여가능(STRING 변수)\r\n",
    "x = '''Hello, world\r\n",
    "welcome to the new world''' #여러줄의 문자열 변수 작성 및 부여\r\n",
    "print(x)\r\n",
    "del x\r\n",
    "\r\n",
    "# 문자열작성시 ' 및 \"사용하기\r\n",
    "x = \"Python isn't difficult\"\r\n",
    "y = 'He said to me \"i love you.\"'\r\n",
    "print(x,y, sep='\\n')\r\n",
    "del x,y\r\n",
    "\r\n",
    "\r\n"
   ],
   "outputs": [
    {
     "output_type": "stream",
     "name": "stdout",
     "text": [
      "Hello, world\n",
      "welcome to the new world\n",
      "Python isn't difficult\n",
      "He said to me \" i love you.\"\n"
     ]
    }
   ],
   "metadata": {}
  }
 ],
 "metadata": {
  "orig_nbformat": 4,
  "language_info": {
   "name": "python",
   "version": "3.8.10",
   "mimetype": "text/x-python",
   "codemirror_mode": {
    "name": "ipython",
    "version": 3
   },
   "pygments_lexer": "ipython3",
   "nbconvert_exporter": "python",
   "file_extension": ".py"
  },
  "kernelspec": {
   "name": "python3",
   "display_name": "Python 3.8.10 64-bit ('base': conda)"
  },
  "interpreter": {
   "hash": "fe3bab233825460445dbfeea6dcd52ef5815a3fa13c858fea07ac830aa383284"
  }
 },
 "nbformat": 4,
 "nbformat_minor": 2
}