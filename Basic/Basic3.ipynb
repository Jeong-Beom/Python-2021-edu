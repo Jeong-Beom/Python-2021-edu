{
 "cells": [
  {
   "cell_type": "code",
   "execution_count": 25,
   "source": [
    "# Bool과 비교연산자\r\n",
    "True, False\r\n",
    "# 비교연산자 : >, >=, <, <=, ==, !=\r\n",
    "10 == 11 #False\r\n",
    "10 != 11 #True\r\n",
    "'Python' == 'python' #False\r\n",
    "not True #결과값 : False\r\n",
    "not True and False or not False\r\n",
    "'''and : 두가지 값이 모두 성립해야 True\r\n",
    "   or : 두가지 값중 1가지만 성립해도 True\r\n",
    "   not 결과를 반대로 바꿈 : not False는 True\r\n",
    "   비교연산자가 논리연산자보다 우선판단\r\n",
    "   not, and, or 순으로 판단'''\r\n",
    "x = 6\r\n",
    "x > 5 and x <10 #파이썬에서는 5 < x < 10 형식으로 표현가능(다른 언어는 불가능할 수 있음)\r\n",
    "\r\n",
    "#bool 함수는 정수 및 실수 0 및 공백을 제외하고는 모두 True 값을 출력\r\n",
    "bool(0), bool(1), bool(4) #F,T,T\r\n",
    "bool(0.0), bool(1.), bool(-4.) #F, T, T\r\n",
    "bool(), bool('s') #F, T\r\n",
    "# int(True)는 1을 int(False)는 0을 산출\r\n",
    "'''1 or 'python' 결과값 : 1\r\n",
    "   0 or 'python' 결과값 : python\r\n",
    "   1 and 'python' 결과값 : python\r\n",
    "   0 and 'python' 결과값 : 0 '''\r\n",
    "\r\n",
    "#연습문제\r\n",
    "'''kor, eng, math, sci = map(float, input('점수를 입력하세요(국어, 영어, 수학, 과학점수 순으로 입력 : ').split())\r\n",
    "print(kor >= 90 and eng > 80 and math > 85 and sci >= 80)'''\r\n",
    "\r\n",
    "'''score = list(int, input('국어, 영어, 수학, 과학 점수) : ').split())\r\n",
    "   print(score)'''\r\n",
    "\r\n",
    "import numpy as np\r\n",
    "score = np.array(list(map(int, input('국어, 영어, 수학, 과학 점수 : ').split())))\r\n",
    "print(score)\r\n",
    "\r\n",
    "\r\n",
    "\r\n"
   ],
   "outputs": [
    {
     "output_type": "stream",
     "name": "stdout",
     "text": [
      "[90 80 55 75]\n"
     ]
    }
   ],
   "metadata": {}
  }
 ],
 "metadata": {
  "orig_nbformat": 4,
  "language_info": {
   "name": "python",
   "version": "3.8.10",
   "mimetype": "text/x-python",
   "codemirror_mode": {
    "name": "ipython",
    "version": 3
   },
   "pygments_lexer": "ipython3",
   "nbconvert_exporter": "python",
   "file_extension": ".py"
  },
  "kernelspec": {
   "name": "python3",
   "display_name": "Python 3.8.10 64-bit ('base': conda)"
  },
  "interpreter": {
   "hash": "fe3bab233825460445dbfeea6dcd52ef5815a3fa13c858fea07ac830aa383284"
  }
 },
 "nbformat": 4,
 "nbformat_minor": 2
}